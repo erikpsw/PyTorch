{
 "cells": [
  {
   "cell_type": "code",
   "execution_count": 2,
   "metadata": {},
   "outputs": [],
   "source": [
    "import torch\n",
    "from torch import autograd\n",
    "import numpy as np\n",
    "\n",
    "#Only Tensors of floating point dtype can require gradients"
   ]
  },
  {
   "cell_type": "markdown",
   "metadata": {},
   "source": [
    "$\\begin{array}{c}\n",
    "\\mathrm{J}_{f}(\\mathbf{x})=\\left[\\begin{array}{lll}\n",
    "\\frac{\\partial f}{\\partial x_{1}} & \\frac{\\partial f}{\\partial x_{2}} & \\frac{\\partial f}{\\partial x_{3}}\n",
    "\\end{array}\\right]=\\left[\\begin{array}{ccc}\n",
    "\\frac{\\partial f_{1}}{\\partial x_{1}} & \\frac{\\partial f_{1}}{\\partial x_{2}} & \\frac{\\partial f_{1}}{\\partial x_{3}} \\\\\n",
    "\\frac{\\partial f_{2}}{\\partial x_{1}} & \\frac{\\partial f_{2}}{\\partial x_{2}} & \\frac{\\partial f_{2}}{\\partial x_{3}} \\\\\n",
    "\\frac{\\partial f_{3}}{\\partial x_{1}} & \\frac{\\partial f_{3}}{\\partial x_{2}} & \\frac{\\partial f_{3}}{\\partial x_{3}}\n",
    "\\end{array}\\right]=\\left[\\begin{array}{ccc}\n",
    "\\frac{\\partial\\left(x_{1}+x_{2}\\right)}{\\partial x_{1}} & \\frac{\\partial\\left(x_{1}+x_{2}\\right)}{\\partial x_{2}} & \\frac{\\partial\\left(x_{1}+x_{2}\\right)}{\\partial x_{3}} \\\\\n",
    "\\frac{\\partial\\left(x_{1} \\times x_{3}\\right)}{\\partial x_{1}} & \\frac{\\partial\\left(x_{1} \\times x_{3}\\right)}{\\partial x_{2}} & \\frac{\\partial\\left(x_{1} \\times x_{3}\\right)}{\\partial x_{3}} \\\\\n",
    "\\frac{\\partial x_{2}^{3}}{\\partial x_{1}} & \\frac{\\partial x_{2}^{3}}{\\partial x_{2}} & \\frac{\\partial x_{2}^{3}}{\\partial x_{3}}\n",
    "\\end{array}\\right]= \n",
    "{\\left[\\begin{array}{ccc}\n",
    "1 & 1 & 0 \\\\\n",
    "x_{3} & 0 & x_{1} \\\\\n",
    "0 & 3 \\times x_{2}^{2} & 0\n",
    "\\end{array}\\right]}\n",
    "\\end{array}$"
   ]
  },
  {
   "cell_type": "code",
   "execution_count": 3,
   "metadata": {},
   "outputs": [
    {
     "data": {
      "text/plain": [
       "array([[ 1.,  1.,  0.],\n",
       "       [ 5.,  0.,  3.],\n",
       "       [ 0., 48.,  0.]], dtype=float32)"
      ]
     },
     "execution_count": 3,
     "metadata": {},
     "output_type": "execute_result"
    }
   ],
   "source": [
    "x=torch.tensor([3.,4.,5.],requires_grad=True)\n",
    "\n",
    "def f(x):\n",
    "    return (x[0] + x[1], x[0]*x[2], x[1]**3)\n",
    "\n",
    "np.array([np.array(i) for i in autograd.functional.jacobian(f,x)])\n"
   ]
  },
  {
   "cell_type": "code",
   "execution_count": 16,
   "metadata": {},
   "outputs": [
    {
     "data": {
      "text/plain": [
       "1.0"
      ]
     },
     "execution_count": 16,
     "metadata": {},
     "output_type": "execute_result"
    }
   ],
   "source": [
    "autograd.functional.jacobian(f,x)[0][1].item()"
   ]
  },
  {
   "cell_type": "code",
   "execution_count": null,
   "metadata": {},
   "outputs": [],
   "source": []
  }
 ],
 "metadata": {
  "kernelspec": {
   "display_name": "Python 3.10.5 64-bit",
   "language": "python",
   "name": "python3"
  },
  "language_info": {
   "codemirror_mode": {
    "name": "ipython",
    "version": 3
   },
   "file_extension": ".py",
   "mimetype": "text/x-python",
   "name": "python",
   "nbconvert_exporter": "python",
   "pygments_lexer": "ipython3",
   "version": "3.10.5"
  },
  "orig_nbformat": 2,
  "vscode": {
   "interpreter": {
    "hash": "09f4728b05d69e74b0ea9aff0073f9d58b230df2a643ed862911c4fa3d476aa5"
   }
  }
 },
 "nbformat": 4,
 "nbformat_minor": 2
}

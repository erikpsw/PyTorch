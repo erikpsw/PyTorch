{
 "cells": [
  {
   "cell_type": "code",
   "execution_count": 1,
   "metadata": {},
   "outputs": [],
   "source": [
    "import torch\n",
    "from torch import autograd\n",
    "\n",
    "#Only Tensors of floating point dtype can require gradients"
   ]
  },
  {
   "cell_type": "code",
   "execution_count": 2,
   "metadata": {
    "tags": []
   },
   "outputs": [
    {
     "name": "stdout",
     "output_type": "stream",
     "text": [
      "tensor(109., grad_fn=<SubBackward0>)\n",
      "tensor(7.9000, grad_fn=<SubBackward0>)\n",
      "tensor(6.2200, grad_fn=<SubBackward0>)\n",
      "tensor(4.8760, grad_fn=<SubBackward0>)\n",
      "tensor(3.8008, grad_fn=<SubBackward0>)\n",
      "tensor(2.9406, grad_fn=<SubBackward0>)\n",
      "tensor(2.2525, grad_fn=<SubBackward0>)\n",
      "tensor(1.7020, grad_fn=<SubBackward0>)\n",
      "tensor(1.2616, grad_fn=<SubBackward0>)\n",
      "tensor(0.9093, grad_fn=<SubBackward0>)\n",
      "tensor(0.6274, grad_fn=<SubBackward0>)\n",
      "tensor(0.4019, grad_fn=<SubBackward0>)\n",
      "tensor(0.2216, grad_fn=<SubBackward0>)\n",
      "tensor(0.0772, grad_fn=<SubBackward0>)\n",
      "tensor(-0.0382, grad_fn=<SubBackward0>)\n",
      "tensor(-0.1306, grad_fn=<SubBackward0>)\n",
      "tensor(-0.2045, grad_fn=<SubBackward0>)\n",
      "tensor(-0.2636, grad_fn=<SubBackward0>)\n",
      "tensor(-0.3108, grad_fn=<SubBackward0>)\n",
      "tensor(-0.3487, grad_fn=<SubBackward0>)\n",
      "tensor(-0.3789, grad_fn=<SubBackward0>)\n",
      "tensor(-0.4032, grad_fn=<SubBackward0>)\n",
      "tensor(-0.4225, grad_fn=<SubBackward0>)\n",
      "tensor(-0.4380, grad_fn=<SubBackward0>)\n",
      "tensor(-0.4504, grad_fn=<SubBackward0>)\n",
      "tensor(-0.4603, grad_fn=<SubBackward0>)\n",
      "tensor(-0.4683, grad_fn=<SubBackward0>)\n",
      "tensor(-0.4746, grad_fn=<SubBackward0>)\n",
      "tensor(-0.4797, grad_fn=<SubBackward0>)\n",
      "tensor(-0.4838, grad_fn=<SubBackward0>)\n",
      "tensor(-0.4870, grad_fn=<SubBackward0>)\n",
      "tensor(-0.4896, grad_fn=<SubBackward0>)\n",
      "tensor(-0.4917, grad_fn=<SubBackward0>)\n",
      "tensor(-0.4933, grad_fn=<SubBackward0>)\n",
      "tensor(-0.4947, grad_fn=<SubBackward0>)\n",
      "tensor(-0.4957, grad_fn=<SubBackward0>)\n",
      "tensor(-0.4966, grad_fn=<SubBackward0>)\n",
      "tensor(-0.4973, grad_fn=<SubBackward0>)\n",
      "tensor(-0.4978, grad_fn=<SubBackward0>)\n",
      "tensor(-0.4983, grad_fn=<SubBackward0>)\n",
      "tensor(-0.4986, grad_fn=<SubBackward0>)\n",
      "tensor(-0.4989, grad_fn=<SubBackward0>)\n",
      "tensor(-0.4991, grad_fn=<SubBackward0>)\n",
      "tensor(-0.4993, grad_fn=<SubBackward0>)\n",
      "tensor(-0.4994, grad_fn=<SubBackward0>)\n",
      "tensor(-0.4995, grad_fn=<SubBackward0>)\n",
      "tensor(-0.4996, grad_fn=<SubBackward0>)\n",
      "tensor(-0.4997, grad_fn=<SubBackward0>)\n",
      "tensor(-0.4998, grad_fn=<SubBackward0>)\n",
      "tensor(-0.4998, grad_fn=<SubBackward0>)\n",
      "tensor(-0.4999, grad_fn=<SubBackward0>)\n",
      "tensor(-0.4999, grad_fn=<SubBackward0>)\n",
      "tensor(-0.4999, grad_fn=<SubBackward0>)\n",
      "tensor(-0.4999, grad_fn=<SubBackward0>)\n",
      "tensor(-0.4999, grad_fn=<SubBackward0>)\n",
      "tensor(-0.5000, grad_fn=<SubBackward0>)\n",
      "tensor(-0.5000, grad_fn=<SubBackward0>)\n",
      "tensor(-0.5000, grad_fn=<SubBackward0>)\n",
      "tensor(-0.5000, grad_fn=<SubBackward0>)\n",
      "tensor(-0.5000, grad_fn=<SubBackward0>)\n",
      "tensor(-0.5000, grad_fn=<SubBackward0>)\n"
     ]
    }
   ],
   "source": [
    "x=torch.tensor(10.,requires_grad=True)\n",
    "aphla=0.1\n",
    "y=x**2+x-1\n",
    "print(y)\n",
    "#梯度下降法求最小值\n",
    "for i in range(60):\n",
    "    x=x-aphla*autograd.grad(y,x)[0]\n",
    "    y=x**2+x-1#注意要更新y\n",
    "    print(x)"
   ]
  },
  {
   "cell_type": "code",
   "execution_count": 3,
   "metadata": {},
   "outputs": [
    {
     "data": {
      "text/plain": [
       "tensor([0., 2., 4., 6.])"
      ]
     },
     "execution_count": 3,
     "metadata": {},
     "output_type": "execute_result"
    }
   ],
   "source": [
    "x=torch.arange(4.0,requires_grad=True)\n",
    "y=torch.dot(x,x)#y=x^2\n",
    "\n",
    "y.backward()\n",
    "x.grad#y'=2x"
   ]
  },
  {
   "cell_type": "markdown",
   "metadata": {},
   "source": [
    "$$\\frac{\\partial }{\\partial \\mathbf{x}}(x_1+x_2+x_3+x_4)$$"
   ]
  },
  {
   "cell_type": "code",
   "execution_count": 4,
   "metadata": {},
   "outputs": [
    {
     "data": {
      "text/plain": [
       "tensor([0., 1., 4., 9.], grad_fn=<MulBackward0>)"
      ]
     },
     "execution_count": 4,
     "metadata": {},
     "output_type": "execute_result"
    }
   ],
   "source": [
    "x.grad.zero_()#清除导数\n",
    "y=x*x\n",
    "y"
   ]
  },
  {
   "cell_type": "code",
   "execution_count": 5,
   "metadata": {},
   "outputs": [
    {
     "data": {
      "text/plain": [
       "tensor([0., 2., 4., 6.])"
      ]
     },
     "execution_count": 5,
     "metadata": {},
     "output_type": "execute_result"
    }
   ],
   "source": [
    "y.sum().backward()\n",
    "x.grad#很少对向量求导，返回为向量非矩阵"
   ]
  },
  {
   "cell_type": "code",
   "execution_count": 6,
   "metadata": {},
   "outputs": [
    {
     "data": {
      "text/plain": [
       "tensor([True, True, True, True])"
      ]
     },
     "execution_count": 6,
     "metadata": {},
     "output_type": "execute_result"
    }
   ],
   "source": [
    "#固定某个参数\n",
    "x.grad.zero_()\n",
    "u=y.detach()#不和x attach\n",
    "(u*x).sum().backward()\n",
    "x.grad==u#u为常数"
   ]
  },
  {
   "cell_type": "code",
   "execution_count": 10,
   "metadata": {},
   "outputs": [
    {
     "name": "stdout",
     "output_type": "stream",
     "text": [
      "最小值: 1.9999982118606567\n"
     ]
    }
   ],
   "source": [
    "import torch.optim as optim\n",
    "\n",
    "# 1. 定义函数\n",
    "def my_function(x):\n",
    "    return (x - 2) ** 2\n",
    "\n",
    "# 2. 初始化参数\n",
    "x = torch.tensor([0.0], requires_grad=True)\n",
    "\n",
    "# 3. 创建优化器\n",
    "optimizer = optim.Adam([x], lr=0.01)\n",
    "\n",
    "# 4. 迭代优化\n",
    "for _ in range(1000):\n",
    "    optimizer.zero_grad()  # 将优化器梯度归零\n",
    "\n",
    "    output = my_function(x)  # 计算函数输出\n",
    "    loss = output  # 损失函数为函数输出\n",
    "\n",
    "    loss.backward()  # 反向传播\n",
    "\n",
    "    optimizer.step()  # 更新参数\n",
    "\n",
    "# 5. 输出最小值\n",
    "print('最小值:', x.item())"
   ]
  },
  {
   "cell_type": "code",
   "execution_count": null,
   "metadata": {},
   "outputs": [],
   "source": []
  }
 ],
 "metadata": {
  "kernelspec": {
   "display_name": "Python 3.10.5 64-bit",
   "language": "python",
   "name": "python3"
  },
  "language_info": {
   "codemirror_mode": {
    "name": "ipython",
    "version": 3
   },
   "file_extension": ".py",
   "mimetype": "text/x-python",
   "name": "python",
   "nbconvert_exporter": "python",
   "pygments_lexer": "ipython3",
   "version": "3.10.5"
  },
  "orig_nbformat": 2,
  "vscode": {
   "interpreter": {
    "hash": "09f4728b05d69e74b0ea9aff0073f9d58b230df2a643ed862911c4fa3d476aa5"
   }
  }
 },
 "nbformat": 4,
 "nbformat_minor": 2
}

{
 "cells": [
  {
   "cell_type": "code",
   "execution_count": 7,
   "metadata": {},
   "outputs": [],
   "source": [
    "import torch\n",
    "from torch import autograd"
   ]
  },
  {
   "cell_type": "markdown",
   "metadata": {},
   "source": [
    " 切线法\n",
    "$$x_{n+1}=x_{n}-\\frac{f(x_n)}{f'(x_n)}$$"
   ]
  },
  {
   "cell_type": "code",
   "execution_count": 14,
   "metadata": {},
   "outputs": [
    {
     "name": "stdout",
     "output_type": "stream",
     "text": [
      "1.0\n",
      "0.7377049326896667\n",
      "0.6741687655448914\n",
      "0.6706675291061401\n",
      "0.6706573367118835\n",
      "0.6706572771072388\n",
      "0.6706573367118835\n",
      "0.6706572771072388\n",
      "0.6706573367118835\n",
      "0.6706572771072388\n"
     ]
    }
   ],
   "source": [
    "x=torch.tensor(1.,requires_grad=True)\n",
    "y=x**3+1.1*x**2+0.9*x-1.4\n",
    "\n",
    "for i in range(10):\n",
    "    y.backward()\n",
    "    print(x.item())\n",
    "    x=torch.tensor(x.item()-(y.item()/x.grad.item()),requires_grad=True)\n",
    "    y=x**3+1.1*x**2+0.9*x-1.4"
   ]
  },
  {
   "cell_type": "markdown",
   "metadata": {},
   "source": [
    "割线法\n",
    "$$x_{n+1}=x_{n-1}-\\frac{(x_n-x_{n-1})f(x_{n-1})}{f(x_n)-f(x_{n-1})}$$"
   ]
  },
  {
   "cell_type": "code",
   "execution_count": 17,
   "metadata": {},
   "outputs": [
    {
     "name": "stdout",
     "output_type": "stream",
     "text": [
      "0.7192982456140351\n",
      "0.6787794252774785\n",
      "0.67097795095841\n",
      "0.6706594771180159\n",
      "0.6706573113060621\n"
     ]
    }
   ],
   "source": [
    "x1=1\n",
    "def f(x):\n",
    "    return x**3+1.1*x**2+0.9*x-1.4\n",
    "x2=0.9\n",
    "x3=x1+(f(x1)*(x1-x2)/(f(x2)-f(x1)))\n",
    "for i in range(5):\n",
    "    print(x3)\n",
    "    x1=x2\n",
    "    x2=x3\n",
    "    x3=x1+(f(x1)*(x1-x2)/(f(x2)-f(x1)))"
   ]
  },
  {
   "cell_type": "code",
   "execution_count": null,
   "metadata": {},
   "outputs": [],
   "source": []
  }
 ],
 "metadata": {
  "kernelspec": {
   "display_name": "Python 3.10.5 64-bit",
   "language": "python",
   "name": "python3"
  },
  "language_info": {
   "codemirror_mode": {
    "name": "ipython",
    "version": 3
   },
   "file_extension": ".py",
   "mimetype": "text/x-python",
   "name": "python",
   "nbconvert_exporter": "python",
   "pygments_lexer": "ipython3",
   "version": "3.10.5"
  },
  "orig_nbformat": 4,
  "vscode": {
   "interpreter": {
    "hash": "09f4728b05d69e74b0ea9aff0073f9d58b230df2a643ed862911c4fa3d476aa5"
   }
  }
 },
 "nbformat": 4,
 "nbformat_minor": 2
}

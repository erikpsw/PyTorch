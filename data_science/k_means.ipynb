{
 "cells": [
  {
   "cell_type": "code",
   "execution_count": 83,
   "metadata": {},
   "outputs": [
    {
     "data": {
      "image/png": "[encoded data removed]",
      "text/plain": [
       "<Figure size 432x288 with 1 Axes>"
      ]
     },
     "metadata": {
      "needs_background": "light"
     },
     "output_type": "display_data"
    }
   ],
   "source": [
    "import numpy as np\n",
    "import matplotlib.pyplot as plt\n",
    "from sklearn.datasets import make_blobs\n",
    "\n",
    "# 设置数据点数量和特征数量\n",
    "n_samples = 15\n",
    "n_features = 2\n",
    "\n",
    "# 生成数据集\n",
    "X, y = make_blobs(n_samples=n_samples, n_features=n_features)\n",
    "pos=X\n",
    "plt.scatter(pos[:,0],pos[:,1])\n",
    "num=len(pos)"
   ]
  },
  {
   "cell_type": "code",
   "execution_count": 84,
   "metadata": {},
   "outputs": [
    {
     "data": {
      "text/plain": [
       "array([[  2.2319517 ,  -2.83789699],\n",
       "       [ -7.27822357,  -4.98805527],\n",
       "       [ -5.40645507,  -6.74514644],\n",
       "       [ -4.80530138,  -7.22305313],\n",
       "       [ -6.31589843,  -4.66120434],\n",
       "       [ -2.35920193, -10.08115928],\n",
       "       [  1.3923112 ,  -2.49789791],\n",
       "       [  2.34308814,  -2.67071187],\n",
       "       [ -4.3269613 ,  -8.13963863],\n",
       "       [ -3.78171443,  -8.07014369],\n",
       "       [ -4.25251389,  -9.00673235],\n",
       "       [ -2.16798288,  -8.18019488],\n",
       "       [  1.45052384,  -3.74238848],\n",
       "       [  1.13759463,  -2.17928345],\n",
       "       [ -4.0903755 ,  -4.11876828]])"
      ]
     },
     "execution_count": 84,
     "metadata": {},
     "output_type": "execute_result"
    }
   ],
   "source": [
    "X"
   ]
  },
  {
   "cell_type": "code",
   "execution_count": 85,
   "metadata": {},
   "outputs": [
    {
     "data": {
      "text/plain": [
       "array([4, 1, 6])"
      ]
     },
     "execution_count": 85,
     "metadata": {},
     "output_type": "execute_result"
    }
   ],
   "source": [
    "k=3#分为几类\n",
    "index=np.random.choice(range(num), k)\n",
    "index"
   ]
  },
  {
   "cell_type": "code",
   "execution_count": 86,
   "metadata": {},
   "outputs": [
    {
     "name": "stdout",
     "output_type": "stream",
     "text": [
      "[x=-6.315898431459145 y=-4.66120434317115, x=-7.278223566140027 y=-4.988055265366501, x=1.3923111985891758 y=-2.49789790651982]\n"
     ]
    }
   ],
   "source": [
    "class center:\n",
    "    def __init__(self,x,y,arr=[]):\n",
    "        self.x=x\n",
    "        self.y=y\n",
    "        self.child=arr\n",
    "        \n",
    "    def update(self):\n",
    "            self.child=np.array(self.child)\n",
    "            self.x=np.average(self.child[:,0])\n",
    "            self.y=np.average(self.child[:,1])\n",
    "            return self.x,self.y\n",
    "    def __repr__(self):\n",
    "        return f'x={self.x} y={self.y}'\n",
    "    \n",
    "    def get_child(self):\n",
    "        print(self.child)\n",
    "\n",
    "        \n",
    "centers=[]\n",
    "for i in range(k):\n",
    "    temp=center(pos[index[i]][0],pos[index[i]][1])\n",
    "    centers.append(temp)\n",
    "print(centers)"
   ]
  },
  {
   "cell_type": "code",
   "execution_count": 87,
   "metadata": {},
   "outputs": [
    {
     "name": "stdout",
     "output_type": "stream",
     "text": [
      "[[-5.406455066647357, -6.745146444773597], [-4.805301377223228, -7.223053128543751], [-6.315898431459145, -4.66120434317115], [-2.3592019319800075, -10.081159279111144], [-4.3269612963950905, -8.13963863216221], [-3.7817144327793133, -8.070143693878869], [-4.252513888747929, -9.006732349840597], [-2.167982876451736, -8.180194883925015], [-4.0903755028324476, -4.118768276316462]]\n",
      "[[-7.278223566140027, -4.988055265366501]]\n"
     ]
    }
   ],
   "source": [
    "import math\n",
    "\n",
    "\n",
    "for i in pos:\n",
    "    dist=[]\n",
    "    for j in centers:\n",
    "        dist.append(math.sqrt((i[0]-j.x)**2+(i[1]-j.y)**2))\n",
    "    centers[np.argmin(dist)].child=centers[np.argmin(dist)].child+[list(i)]# 加入最短距离的节点\n",
    "    #不能用append 有bug\n",
    "\n",
    "centers[0].get_child()\n",
    "centers[1].get_child()"
   ]
  },
  {
   "cell_type": "code",
   "execution_count": 88,
   "metadata": {},
   "outputs": [
    {
     "name": "stdout",
     "output_type": "stream",
     "text": [
      "[x=-3.871447267174951 y=-8.206581201747882, x=-5.894832500143873 y=-4.5893426282847045, x=1.711093901943308 y=-2.785635738705463]\n"
     ]
    }
   ],
   "source": [
    "for i in range(10):\n",
    "    for i in centers:\n",
    "        if(len(i.child)>0):#防止出现空数组\n",
    "            i.update()   #找到了新的聚类中心\n",
    "            i.child=[]\n",
    "    for i in pos:\n",
    "        dist=[]\n",
    "        for j in centers:\n",
    "            dist.append(math.sqrt((i[0]-j.x)**2+(i[1]-j.y)**2))\n",
    "        centers[np.argmin(dist)].child=centers[np.argmin(dist)].child+[list(i)]# 加入最短距离的节点\n",
    "\n",
    "print(centers)"
   ]
  },
  {
   "cell_type": "code",
   "execution_count": 89,
   "metadata": {},
   "outputs": [
    {
     "data": {
      "image/png": "[encoded data removed]",
      "text/plain": [
       "<Figure size 432x288 with 1 Axes>"
      ]
     },
     "metadata": {
      "needs_background": "light"
     },
     "output_type": "display_data"
    }
   ],
   "source": [
    "count=1\n",
    "for i in centers:\n",
    "    color=np.array(plt.cm.tab10(count+3)).reshape(1,-1)#转为rgb颜色\n",
    "    plt.scatter(i.x,i.y,marker=\"^\",c=color)\n",
    "    i.child=np.array(i.child)\n",
    "    plt.scatter(i.child[:,0],i.child[:,1],c=[color for i in range(len(i.child))])\n",
    "    count+=1\n",
    "plt.show()"
   ]
  },
  {
   "cell_type": "code",
   "execution_count": null,
   "metadata": {},
   "outputs": [],
   "source": []
  }
 ],
 "metadata": {
  "kernelspec": {
   "display_name": "Python 3.10.5 64-bit",
   "language": "python",
   "name": "python3"
  },
  "language_info": {
   "codemirror_mode": {
    "name": "ipython",
    "version": 3
   },
   "file_extension": ".py",
   "mimetype": "text/x-python",
   "name": "python",
   "nbconvert_exporter": "python",
   "pygments_lexer": "ipython3",
   "version": "3.10.5"
  },
  "orig_nbformat": 4,
  "vscode": {
   "interpreter": {
    "hash": "09f4728b05d69e74b0ea9aff0073f9d58b230df2a643ed862911c4fa3d476aa5"
   }
  }
 },
 "nbformat": 4,
 "nbformat_minor": 2
}

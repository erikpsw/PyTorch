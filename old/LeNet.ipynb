{
 "cells": [
  {
   "cell_type": "code",
   "execution_count": 1,
   "metadata": {},
   "outputs": [],
   "source": [
    "import matplotlib.pyplot as plt\n",
    "import torch\n",
    "from torch import nn\n",
    "import torchvision\n",
    "import mine_torch"
   ]
  },
  {
   "cell_type": "code",
   "execution_count": 2,
   "metadata": {},
   "outputs": [
    {
     "name": "stdout",
     "output_type": "stream",
     "text": [
      "True\n"
     ]
    }
   ],
   "source": [
    "print(torch.cuda.is_available())"
   ]
  },
  {
   "cell_type": "code",
   "execution_count": 3,
   "metadata": {},
   "outputs": [
    {
     "name": "stdout",
     "output_type": "stream",
     "text": [
      "Conv2d output shape: \t torch.Size([1, 6, 28, 28])\n",
      "Sigmoid output shape: \t torch.Size([1, 6, 28, 28])\n",
      "AvgPool2d output shape: \t torch.Size([1, 6, 14, 14])\n",
      "Conv2d output shape: \t torch.Size([1, 16, 10, 10])\n",
      "Sigmoid output shape: \t torch.Size([1, 16, 10, 10])\n",
      "AvgPool2d output shape: \t torch.Size([1, 16, 5, 5])\n",
      "Flatten output shape: \t torch.Size([1, 400])\n",
      "Linear output shape: \t torch.Size([1, 120])\n",
      "Sigmoid output shape: \t torch.Size([1, 120])\n",
      "Linear output shape: \t torch.Size([1, 84])\n",
      "Sigmoid output shape: \t torch.Size([1, 84])\n",
      "Linear output shape: \t torch.Size([1, 10])\n"
     ]
    }
   ],
   "source": [
    "net = nn.Sequential(\n",
    "    nn.Conv2d(1, 6, kernel_size=5, padding=2), nn.Sigmoid(),#6个输出通道32*32\n",
    "    #32-5+1=28\n",
    "    nn.AvgPool2d(kernel_size=2, stride=2),#和核的大小一样\n",
    "    nn.Conv2d(6, 16, kernel_size=5), nn.Sigmoid(),\n",
    "    nn.AvgPool2d(kernel_size=2, stride=2),\n",
    "    nn.Flatten(),\n",
    "    nn.Linear(16 * 5 * 5, 120), nn.Sigmoid(),\n",
    "    nn.Linear(120, 84), nn.Sigmoid(),\n",
    "    nn.Linear(84, 10))\n",
    "device = torch.device('cuda')\n",
    "\n",
    "\n",
    "X = torch.rand(size=(1, 1, 28, 28), dtype=torch.float32)\n",
    "for layer in net:\n",
    "    X = layer(X)\n",
    "    print(layer.__class__.__name__,'output shape: \\t',X.shape)"
   ]
  },
  {
   "cell_type": "code",
   "execution_count": 4,
   "metadata": {},
   "outputs": [
    {
     "data": {
      "text/plain": [
       "device(type='cuda', index=0)"
      ]
     },
     "execution_count": 4,
     "metadata": {},
     "output_type": "execute_result"
    }
   ],
   "source": [
    "\n",
    "batch_size=100\n",
    "trans = torchvision.transforms.ToTensor()\n",
    "mnist_train = torchvision.datasets.MNIST(\n",
    "    root=\"./data\", train=True, transform=trans, download=True)\n",
    "mnist_test = torchvision.datasets.MNIST(\n",
    "    root=\"./data\", train=False, transform=trans, download=True)\n",
    "\n",
    "batch_size=100\n",
    "(train_x,train_y)=mine_torch.batch_data(mnist_train,batch_size,device)\n",
    "(test_x,test_y)=mine_torch.batch_data(mnist_test,batch_size,device)\n",
    "\n",
    "test_x.device"
   ]
  },
  {
   "cell_type": "code",
   "execution_count": 5,
   "metadata": {},
   "outputs": [
    {
     "data": {
      "image/png": "[encoded data removed]",
      "text/plain": [
       "<Figure size 432x288 with 6 Axes>"
      ]
     },
     "metadata": {
      "needs_background": "light"
     },
     "output_type": "display_data"
    }
   ],
   "source": [
    "# text_labels = ['t-shirt', 'trouser', 'pullover', 'dress', 'coat',\n",
    "#                    'sandal', 'shirt', 'sneaker', 'bag', 'ankle boot']\n",
    "text_labels =range(10)\n",
    "fig,axes=plt.subplots(2,3)\n",
    "axes=axes.flatten()#一维\n",
    "for i in range(6):\n",
    "    ax=axes[i]\n",
    "    ax.get_xaxis().set_visible(False)\n",
    "    ax.get_yaxis().set_visible(False)\n",
    "    ax.imshow(train_x[0][i][0].cpu())\n",
    "    ax.set_title(text_labels[train_y[0][i].cpu()])\n",
    "plt.show()#必须放在cpu上"
   ]
  },
  {
   "cell_type": "code",
   "execution_count": 6,
   "metadata": {},
   "outputs": [],
   "source": [
    "def calc_acc(X,y,net):\n",
    "    tot=0\n",
    "    res=net(X)\n",
    "    for i in range(X.shape[0]):\n",
    "        if(res[i].argmax().item()==y[i].item()):\n",
    "            tot+=1\n",
    "    return tot/X.shape[0]"
   ]
  },
  {
   "cell_type": "code",
   "execution_count": 7,
   "metadata": {},
   "outputs": [
    {
     "name": "stdout",
     "output_type": "stream",
     "text": [
      "loss= 2.302 accuracy=0.099\n",
      "loss= 2.298 accuracy=0.099\n",
      "loss= 1.324 accuracy=0.508\n",
      "loss= 0.304 accuracy=0.888\n",
      "loss= 0.218 accuracy=0.920\n",
      "loss= 0.178 accuracy=0.938\n",
      "loss= 0.153 accuracy=0.951\n",
      "loss= 0.138 accuracy=0.959\n",
      "loss= 0.128 accuracy=0.965\n",
      "loss= 0.121 accuracy=0.969\n",
      "loss= 0.114 accuracy=0.972\n",
      "loss= 0.109 accuracy=0.974\n",
      "loss= 0.105 accuracy=0.976\n",
      "loss= 0.101 accuracy=0.977\n",
      "loss= 0.098 accuracy=0.978\n",
      "loss= 0.095 accuracy=0.979\n",
      "loss= 0.092 accuracy=0.980\n",
      "loss= 0.089 accuracy=0.981\n",
      "loss= 0.087 accuracy=0.982\n",
      "loss= 0.084 accuracy=0.983\n",
      "loss= 0.082 accuracy=0.983\n",
      "loss= 0.080 accuracy=0.984\n",
      "loss= 0.078 accuracy=0.985\n",
      "loss= 0.076 accuracy=0.985\n",
      "loss= 0.074 accuracy=0.986\n",
      "loss= 0.072 accuracy=0.986\n",
      "loss= 0.070 accuracy=0.987\n",
      "loss= 0.068 accuracy=0.987\n",
      "loss= 0.066 accuracy=0.988\n",
      "loss= 0.065 accuracy=0.988\n"
     ]
    }
   ],
   "source": [
    "lr=1\n",
    "epoch=60\n",
    "net.to(device)\n",
    "net.apply(mine_torch.init_auto)\n",
    "optimizer=torch.optim.SGD(net.parameters(),lr)\n",
    "loss=nn.CrossEntropyLoss()\n",
    "\n",
    "loss_arr,acc_arr=[],[]\n",
    "net.train()#启用 BatchNormalization 和 Dropout\n",
    "for i in range(epoch):\n",
    "    for j in range(batch_size):\n",
    "        optimizer.zero_grad()\n",
    "        y_hat=net(train_x[j])\n",
    "        l=loss(y_hat,train_y[j])\n",
    "        l.backward()\n",
    "        optimizer.step()\n",
    "    if(i%2==0):\n",
    "        cur_acc=calc_acc(train_x.reshape((-1,1,28,28)),train_y.reshape(-1,1),net)\n",
    "        print(f'loss= {l:.3f} accuracy={cur_acc:.3f}')        \n",
    "        loss_arr.append(l)\n",
    "        acc_arr.append(cur_acc)"
   ]
  },
  {
   "cell_type": "code",
   "execution_count": 8,
   "metadata": {},
   "outputs": [
    {
     "data": {
      "image/png": "[encoded data removed]",
      "text/plain": [
       "<Figure size 432x288 with 1 Axes>"
      ]
     },
     "metadata": {
      "needs_background": "light"
     },
     "output_type": "display_data"
    }
   ],
   "source": [
    "import numpy as np\n",
    "fig,ax=plt.subplots(1,1)\n",
    "for i in range(len(loss_arr)):\n",
    "    if(isinstance(loss_arr[i],np.ndarray)==False):\n",
    "        loss_arr[i]=loss_arr[i].to(torch.device('cpu')).detach().numpy()\n",
    "\n",
    "ax.plot(range(len(loss_arr)),loss_arr)\n",
    "ax.plot(range(len(loss_arr)),acc_arr)\n",
    "plt.legend(['loss','accuracy'])\n",
    "plt.show()"
   ]
  },
  {
   "cell_type": "code",
   "execution_count": 9,
   "metadata": {},
   "outputs": [
    {
     "data": {
      "text/plain": [
       "0.9863"
      ]
     },
     "execution_count": 9,
     "metadata": {},
     "output_type": "execute_result"
    }
   ],
   "source": [
    "calc_acc(test_x.reshape((-1,1,28,28)),test_y.reshape(-1,1),net)"
   ]
  },
  {
   "cell_type": "code",
   "execution_count": 10,
   "metadata": {},
   "outputs": [
    {
     "data": {
      "text/plain": [
       "<matplotlib.image.AxesImage at 0x216112f29e0>"
      ]
     },
     "execution_count": 10,
     "metadata": {},
     "output_type": "execute_result"
    },
    {
     "data": {
      "image/png": "[encoded data removed]",
      "text/plain": [
       "<Figure size 432x288 with 1 Axes>"
      ]
     },
     "metadata": {
      "needs_background": "light"
     },
     "output_type": "display_data"
    }
   ],
   "source": [
    "plt.imshow(train_x[0][1][0].cpu())"
   ]
  },
  {
   "cell_type": "code",
   "execution_count": 11,
   "metadata": {},
   "outputs": [
    {
     "data": {
      "text/plain": [
       "tensor(0, device='cuda:0')"
      ]
     },
     "execution_count": 11,
     "metadata": {},
     "output_type": "execute_result"
    }
   ],
   "source": [
    "net(train_x[0][1][0].reshape((-1,1,28,28))).argmax()"
   ]
  },
  {
   "cell_type": "code",
   "execution_count": 12,
   "metadata": {},
   "outputs": [],
   "source": [
    "torch.save(net.state_dict(), 'data\\mnist.params')\n"
   ]
  }
 ],
 "metadata": {
  "kernelspec": {
   "display_name": "Python 3.10.5 64-bit",
   "language": "python",
   "name": "python3"
  },
  "language_info": {
   "codemirror_mode": {
    "name": "ipython",
    "version": 3
   },
   "file_extension": ".py",
   "mimetype": "text/x-python",
   "name": "python",
   "nbconvert_exporter": "python",
   "pygments_lexer": "ipython3",
   "version": "3.10.5"
  },
  "orig_nbformat": 4,
  "vscode": {
   "interpreter": {
    "hash": "09f4728b05d69e74b0ea9aff0073f9d58b230df2a643ed862911c4fa3d476aa5"
   }
  }
 },
 "nbformat": 4,
 "nbformat_minor": 2
}

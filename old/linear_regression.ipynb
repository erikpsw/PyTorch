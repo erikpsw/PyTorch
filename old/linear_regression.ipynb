{
 "cells": [
  {
   "cell_type": "markdown",
   "metadata": {},
   "source": [
    "线性模型\n",
    "输入$\\mathbf{x}=[x_1,x_2,\\cdots,x_n]^T$\n",
    "\n",
    "输出为$y=\\left \\langle \\mathbf{x},\\mathbf{w} \\right \\rangle +b$\n",
    "\n",
    "$$\\begin{aligned}\\ell(\\mathbf{X}, \\mathbf{y}, \\mathbf{w}, b)&=\\frac{1}{2 n} \\sum_{i=1}^{n}\\left(y_{i}-\\left\\langle\\mathbf{x}_{i}, \\mathbf{w}\\right\\rangle-b\\right)^{2} \\\\ &=\\frac{1}{2 n}\\|\\mathbf{y}-\\mathbf{X} \\mathbf{w}-b\\|^{2}\\end{aligned}$$\n",
    "\n",
    "将bias加入$\\bf w$中\n",
    "$\\bf x\\leftarrow[x,1],w\\leftarrow [w,b]$\n"
   ]
  },
  {
   "cell_type": "code",
   "execution_count": 188,
   "metadata": {},
   "outputs": [],
   "source": [
    "import torch\n",
    "from matplotlib import pyplot as plt\n",
    "import numpy as np"
   ]
  },
  {
   "cell_type": "markdown",
   "metadata": {},
   "source": [
    "例: $y=2x+1$\n",
    "\n",
    "$$\\mathbf{x}=[x_i,1]\\\\\n",
    "\\mathbf{y}=\\mathbf{x}[a,b]$$\n"
   ]
  },
  {
   "cell_type": "code",
   "execution_count": 189,
   "metadata": {},
   "outputs": [
    {
     "data": {
      "text/plain": [
       "<matplotlib.collections.PathCollection at 0x21b8be36860>"
      ]
     },
     "execution_count": 189,
     "metadata": {},
     "output_type": "execute_result"
    },
    {
     "data": {
      "image/png": "[encoded data removed]",
      "text/plain": [
       "<Figure size 576x396 with 1 Axes>"
      ]
     },
     "metadata": {},
     "output_type": "display_data"
    }
   ],
   "source": [
    "#构造数据集\n",
    "num=10\n",
    "para_num=2#参数数量(x_1,x_2,……,b)\n",
    "w=torch.tensor([2.,1.])#参数数值\n",
    "\n",
    "def train_data(num,para_num,w):\n",
    "    x=torch.ones(num,para_num)\n",
    "    norm_x=torch.normal(0,1,(num,para_num-1))\n",
    "    x[:,:para_num-1]=norm_x[:,:para_num-1]\n",
    "    y=torch.mv(x,w)+torch.normal(0,0.1,(num,1))[:,0]\n",
    "    return(x,y)\n",
    "\n",
    "a=train_data(num,para_num,w)\n",
    "plt.style.use('seaborn')\n",
    "fig,ax=plt.subplots()\n",
    "x=a[0] #自变量  加了齐次坐标\n",
    "y=a[1] #因变量\n",
    "ax.scatter(a[0][:,0],a[1])\n"
   ]
  },
  {
   "cell_type": "code",
   "execution_count": 190,
   "metadata": {},
   "outputs": [
    {
     "data": {
      "image/png": "[encoded data removed]",
      "text/plain": [
       "<Figure size 576x396 with 3 Axes>"
      ]
     },
     "metadata": {},
     "output_type": "display_data"
    }
   ],
   "source": [
    "# 梯度下降算法\n",
    "w1=torch.rand(2,requires_grad=True)#初始\n",
    "lr=0.01#学习率\n",
    "epochs=100\n",
    "def sgd0(para_num,epochs,lr,w,x,y):\n",
    "    res=torch.zeros(epochs,para_num+1)#还有loss\n",
    "    for epoch in range(epochs):\n",
    "        loss=(torch.mv(x,w)-y)**2#loss函数matrix-vector\n",
    "        loss.sum().backward()\n",
    "        res[epoch,:para_num]=w.detach()\n",
    "        res[epoch,para_num]=loss.sum().detach()\n",
    "        with torch.no_grad():#更新时不用计算梯度\n",
    "            #非常重要\n",
    "            w-=(w.grad)*lr\n",
    "            w.grad.zero_()  \n",
    "    return res\n",
    "ans=sgd0(2,epochs,lr,w1,x,y)\n",
    "ans\n",
    "plt.style.use('seaborn')\n",
    "fig,ax=plt.subplots(1,3)\n",
    "ax[0].set_title('a')\n",
    "ax[1].set_title('b')\n",
    "ax[2].set_title('loss')\n",
    "\n",
    "for i in range(3):\n",
    "    ax[i].scatter(range(epochs),[a[i] for a in ans])"
   ]
  },
  {
   "cell_type": "code",
   "execution_count": 191,
   "metadata": {},
   "outputs": [
    {
     "data": {
      "text/plain": [
       "tensor([[ 0.9590],\n",
       "        [-0.4906],\n",
       "        [ 0.4164],\n",
       "        [-3.7847],\n",
       "        [ 1.7181],\n",
       "        [ 2.6060],\n",
       "        [ 2.2153],\n",
       "        [-0.1455],\n",
       "        [ 2.3960],\n",
       "        [ 6.5594]])"
      ]
     },
     "execution_count": 191,
     "metadata": {},
     "output_type": "execute_result"
    }
   ],
   "source": [
    "y.unsqueeze_(-1)\n",
    "y"
   ]
  },
  {
   "cell_type": "markdown",
   "metadata": {},
   "source": [
    "尝试升高维数\n",
    "$$Awx=y\\\\\n",
    "x(n\\times 2)\\\\\n",
    "w(2\\times 3)\\\\\n",
    "A(3\\times 1)\n",
    "$$\n"
   ]
  },
  {
   "cell_type": "code",
   "execution_count": 192,
   "metadata": {},
   "outputs": [],
   "source": [
    "w1=torch.rand((2,3),requires_grad=True)#初始\n",
    "A=torch.rand((3,1),requires_grad=True)\n",
    "net=[w1,A]\n",
    "lr=0.001#学习率\n",
    "epochs=100"
   ]
  },
  {
   "cell_type": "code",
   "execution_count": 193,
   "metadata": {},
   "outputs": [
    {
     "data": {
      "text/plain": [
       "tensor([[ 0.5250,  0.4836,  0.8063],\n",
       "        [ 0.0659, -0.0509,  0.7456],\n",
       "        [ 0.3312,  0.2579,  0.7807],\n",
       "        [-1.1293, -1.4424,  0.5874],\n",
       "        [ 0.7857,  0.7871,  0.8409],\n",
       "        [ 1.1206,  1.1770,  0.8852],\n",
       "        [ 0.9247,  0.9490,  0.8593],\n",
       "        [ 0.1037, -0.0069,  0.7506],\n",
       "        [ 1.0088,  1.0469,  0.8704],\n",
       "        [ 2.4863,  2.7672,  1.0660]], grad_fn=<MmBackward0>)"
      ]
     },
     "execution_count": 193,
     "metadata": {},
     "output_type": "execute_result"
    }
   ],
   "source": [
    "x@w1"
   ]
  },
  {
   "cell_type": "code",
   "execution_count": 194,
   "metadata": {},
   "outputs": [],
   "source": [
    "def net_func(net,x):\n",
    "    value=x\n",
    "    for w in net:\n",
    "        value=value@w\n",
    "    return value"
   ]
  },
  {
   "cell_type": "code",
   "execution_count": 195,
   "metadata": {},
   "outputs": [
    {
     "name": "stdout",
     "output_type": "stream",
     "text": [
      "loss= 15.359933853149414\n",
      "loss= 13.191898345947266\n",
      "loss= 11.274410247802734\n",
      "loss= 9.597452163696289\n",
      "loss= 8.146129608154297\n",
      "loss= 6.902000904083252\n",
      "loss= 5.844441890716553\n",
      "loss= 4.951904296875\n",
      "loss= 4.203019618988037\n",
      "loss= 3.5774195194244385\n",
      "loss= 3.0563251972198486\n",
      "loss= 2.622896194458008\n",
      "loss= 2.262364625930786\n",
      "loss= 1.9620424509048462\n",
      "loss= 1.7111928462982178\n",
      "loss= 1.5008571147918701\n",
      "loss= 1.3236496448516846\n",
      "loss= 1.173527717590332\n",
      "loss= 1.0455838441848755\n",
      "loss= 0.9358524680137634\n",
      "loss= 0.841140866279602\n",
      "loss= 0.758879542350769\n",
      "loss= 0.6870030164718628\n",
      "loss= 0.6238463521003723\n",
      "loss= 0.5680630207061768\n",
      "loss= 0.5185618996620178\n",
      "loss= 0.474450021982193\n",
      "loss= 0.4349972605705261\n",
      "loss= 0.3995966911315918\n",
      "loss= 0.3677426874637604\n",
      "loss= 0.33901160955429077\n",
      "loss= 0.3130440413951874\n",
      "loss= 0.2895324230194092\n",
      "loss= 0.26821309328079224\n",
      "loss= 0.24885691702365875\n",
      "loss= 0.2312641739845276\n",
      "loss= 0.21525998413562775\n",
      "loss= 0.20068904757499695\n",
      "loss= 0.18741454184055328\n",
      "loss= 0.17531481385231018\n",
      "loss= 0.16427969932556152\n",
      "loss= 0.15421177446842194\n",
      "loss= 0.14502327144145966\n",
      "loss= 0.13663442432880402\n",
      "loss= 0.12897378206253052\n",
      "loss= 0.12197642773389816\n",
      "loss= 0.11558371782302856\n",
      "loss= 0.10974236577749252\n",
      "loss= 0.10440371930599213\n",
      "loss= 0.09952390193939209\n",
      "loss= 0.09506318718194962\n",
      "loss= 0.09098488837480545\n",
      "loss= 0.08725567162036896\n",
      "loss= 0.08384553343057632\n",
      "loss= 0.0807269737124443\n",
      "loss= 0.07787466049194336\n",
      "loss= 0.07526571303606033\n",
      "loss= 0.07287904620170593\n",
      "loss= 0.07069593667984009\n",
      "loss= 0.06869862973690033\n",
      "loss= 0.06687130779027939\n",
      "loss= 0.06519944220781326\n",
      "loss= 0.06366953253746033\n",
      "loss= 0.062269777059555054\n",
      "loss= 0.060988787561655045\n",
      "loss= 0.05981647968292236\n",
      "loss= 0.05874370411038399\n",
      "loss= 0.05776176601648331\n",
      "loss= 0.05686318129301071\n",
      "loss= 0.056040726602077484\n",
      "loss= 0.055288054049015045\n",
      "loss= 0.05459901690483093\n",
      "loss= 0.053968317806720734\n",
      "loss= 0.05339106544852257\n",
      "loss= 0.052862610667943954\n",
      "loss= 0.052378810942173004\n",
      "loss= 0.05193600431084633\n",
      "loss= 0.051530588418245316\n",
      "loss= 0.05115949735045433\n",
      "loss= 0.05081970989704132\n",
      "loss= 0.05050865188241005\n",
      "loss= 0.050223834812641144\n",
      "loss= 0.049963146448135376\n",
      "loss= 0.04972441866993904\n",
      "loss= 0.04950585961341858\n",
      "loss= 0.049305692315101624\n",
      "loss= 0.04912256449460983\n",
      "loss= 0.04895476624369621\n",
      "loss= 0.048801153898239136\n",
      "loss= 0.04866043105721474\n",
      "loss= 0.04853169620037079\n",
      "loss= 0.048413828015327454\n",
      "loss= 0.04830576479434967\n",
      "loss= 0.04820695519447327\n",
      "loss= 0.048116330057382584\n",
      "loss= 0.04803352430462837\n",
      "loss= 0.047957565635442734\n",
      "loss= 0.04788804054260254\n",
      "loss= 0.04782434180378914\n",
      "loss= 0.0477660596370697\n"
     ]
    }
   ],
   "source": [
    "# 梯度下降算法\n",
    "loss_lst=[]\n",
    "def sgd(epochs,lr,net,x,y):\n",
    "    for _ in range(epochs):\n",
    "        value=net_func(net,x)\n",
    "        loss=(value-y)**2 #loss函数matrix-vector\n",
    "        loss.sum().backward()\n",
    "        l=loss.sum().detach()\n",
    "        loss_lst.append(l)\n",
    "        print(f'loss= {l}')\n",
    "        with torch.no_grad():#更新时不用计算梯度\n",
    "            #非常重要\n",
    "            for w in net:\n",
    "                w-=(w.grad)*lr\n",
    "                w.grad.zero_()\n",
    "    return net\n",
    "ans=sgd(epochs,lr,net,x,y)"
   ]
  },
  {
   "cell_type": "code",
   "execution_count": 196,
   "metadata": {},
   "outputs": [
    {
     "data": {
      "text/plain": [
       "<matplotlib.collections.PathCollection at 0x21b8aa1df90>"
      ]
     },
     "execution_count": 196,
     "metadata": {},
     "output_type": "execute_result"
    },
    {
     "data": {
      "image/png": "[encoded data removed]",
      "text/plain": [
       "<Figure size 576x396 with 1 Axes>"
      ]
     },
     "metadata": {},
     "output_type": "display_data"
    }
   ],
   "source": [
    "plt.style.use('seaborn')\n",
    "fig,ax=plt.subplots(1,1)\n",
    "ax.set_title('loss')\n",
    "\n",
    "ax.scatter(range(epochs),loss_lst)"
   ]
  },
  {
   "cell_type": "code",
   "execution_count": 197,
   "metadata": {},
   "outputs": [
    {
     "data": {
      "text/plain": [
       "<matplotlib.collections.PathCollection at 0x21b8bc9a4d0>"
      ]
     },
     "execution_count": 197,
     "metadata": {},
     "output_type": "execute_result"
    },
    {
     "data": {
      "image/png": "[encoded data removed]",
      "text/plain": [
       "<Figure size 576x396 with 1 Axes>"
      ]
     },
     "metadata": {},
     "output_type": "display_data"
    }
   ],
   "source": [
    "fig,ax=plt.subplots()\n",
    "x=a[0] #自变量  加了齐次坐标\n",
    "y=net_func(net,a[0]) #因变量\n",
    "ax.scatter(x[:,0],y.detach().reshape_as(x[:,0]))"
   ]
  },
  {
   "cell_type": "code",
   "execution_count": 198,
   "metadata": {},
   "outputs": [
    {
     "data": {
      "text/plain": [
       "[tensor([[0.9663, 1.1143, 0.2969],\n",
       "         [0.4229, 0.3686, 0.7218]], requires_grad=True),\n",
       " tensor([[0.8262],\n",
       "         [0.9481],\n",
       "         [0.4954]], requires_grad=True)]"
      ]
     },
     "execution_count": 198,
     "metadata": {},
     "output_type": "execute_result"
    }
   ],
   "source": [
    "net"
   ]
  },
  {
   "cell_type": "markdown",
   "metadata": {},
   "source": [
    "\n",
    "$$y=2x_1-3.4x_2+4.2$$"
   ]
  },
  {
   "cell_type": "code",
   "execution_count": 199,
   "metadata": {},
   "outputs": [
    {
     "data": {
      "text/plain": [
       "(torch.Size([10, 1]),\n",
       " torch.Size([10, 1]),\n",
       " [tensor([[-0.3101],\n",
       "          [ 0.1193],\n",
       "          [-0.8039],\n",
       "          [-0.1455],\n",
       "          [-0.4490],\n",
       "          [-0.4711],\n",
       "          [ 0.1904],\n",
       "          [ 0.2630],\n",
       "          [ 1.4236],\n",
       "          [ 0.5387]]),\n",
       "  tensor([[ 0.5264],\n",
       "          [-0.0822],\n",
       "          [ 3.6710],\n",
       "          [ 1.2643],\n",
       "          [ 4.7617],\n",
       "          [ 1.2875],\n",
       "          [ 4.4693],\n",
       "          [ 0.2595],\n",
       "          [ 3.8800],\n",
       "          [ 5.9698]])])"
      ]
     },
     "execution_count": 199,
     "metadata": {},
     "output_type": "execute_result"
    }
   ],
   "source": [
    "from torch.utils import data\n",
    "#利用api简洁实现 \n",
    "\n",
    "t=train_data(10,3,torch.tensor([2.,-3.4,4.2]))\n",
    "feature,lables=t[0][:,:para_num-1],t[1].unsqueeze(-1)#去除齐次坐标\n",
    "\n",
    "#注意unsqueeze(-1)用于从[10]升维成[10,1]\n",
    "\n",
    "def load_array(data_array,batch_size,is_train=True):\n",
    "    dataset=data.TensorDataset(*data_array)#给元组解包\n",
    "    return data.DataLoader(dataset,batch_size,shuffle=is_train)#随机挑选batch_size个\n",
    "\n",
    "batch_size=10\n",
    "data_iter=load_array((feature,lables),batch_size,True)\n",
    "\n",
    "feature.shape,lables.shape,next(iter(data_iter))"
   ]
  },
  {
   "cell_type": "code",
   "execution_count": 200,
   "metadata": {},
   "outputs": [
    {
     "data": {
      "text/plain": [
       "(torch.Size([10, 2]),\n",
       " torch.Size([10, 1]),\n",
       " [tensor([[ 0.3370, -0.9153],\n",
       "          [-0.6095,  0.6299],\n",
       "          [-1.3922,  0.9131],\n",
       "          [-1.4459, -1.3479],\n",
       "          [-0.5990,  1.1618],\n",
       "          [ 1.0819, -0.8286],\n",
       "          [-0.6869,  0.2058],\n",
       "          [ 0.8927,  0.4735],\n",
       "          [-0.4811, -0.4705],\n",
       "          [ 0.1342, -0.4431]]),\n",
       "  tensor([[ 7.9661],\n",
       "          [ 0.7883],\n",
       "          [-1.7873],\n",
       "          [ 5.8978],\n",
       "          [-0.8207],\n",
       "          [ 9.1927],\n",
       "          [ 2.0195],\n",
       "          [ 4.5162],\n",
       "          [ 4.8954],\n",
       "          [ 5.9299]])])"
      ]
     },
     "execution_count": 200,
     "metadata": {},
     "output_type": "execute_result"
    }
   ],
   "source": [
    "from torch import nn\n",
    "\n",
    "net=nn.Sequential(nn.Linear(2,1))#输入为2,输出为1\n",
    "para_num=3\n",
    "t=train_data(10,3,torch.tensor([2.,-3.4,4.2]))\n",
    "feature,lables=t[0][:,:para_num-1],t[1].unsqueeze(-1)#去除齐次坐标\n",
    "def load_array(data_array,batch_size,is_train=True):\n",
    "    dataset=data.TensorDataset(*data_array)#给元组解包\n",
    "    return data.DataLoader(dataset,batch_size,shuffle=is_train)#随机挑选batch_size个\n",
    "\n",
    "batch_size=10\n",
    "data_iter=load_array((feature,lables),batch_size,True)\n",
    "\n",
    "feature.shape,lables.shape,next(iter(data_iter))"
   ]
  },
  {
   "cell_type": "code",
   "execution_count": 201,
   "metadata": {},
   "outputs": [
    {
     "data": {
      "text/plain": [
       "tensor([0.])"
      ]
     },
     "execution_count": 201,
     "metadata": {},
     "output_type": "execute_result"
    }
   ],
   "source": [
    "net[0].weight.data.normal_(0,0.01)\n",
    "net[0].bias.data.fill_(0)"
   ]
  },
  {
   "cell_type": "code",
   "execution_count": 202,
   "metadata": {},
   "outputs": [
    {
     "name": "stdout",
     "output_type": "stream",
     "text": [
      "epoch 1, loss 24.463436\n",
      "epoch 2, loss 22.055332\n",
      "epoch 3, loss 19.895271\n",
      "epoch 4, loss 17.956436\n",
      "epoch 5, loss 16.215055\n",
      "epoch 6, loss 14.650042\n",
      "epoch 7, loss 13.242665\n",
      "epoch 8, loss 11.976290\n",
      "epoch 9, loss 10.836120\n",
      "epoch 10, loss 9.808989\n",
      "epoch 11, loss 8.883178\n",
      "epoch 12, loss 8.048234\n",
      "epoch 13, loss 7.294843\n",
      "epoch 14, loss 6.614686\n",
      "epoch 15, loss 6.000340\n",
      "epoch 16, loss 5.445167\n",
      "epoch 17, loss 4.943228\n",
      "epoch 18, loss 4.489212\n",
      "epoch 19, loss 4.078358\n",
      "epoch 20, loss 3.706404\n",
      "epoch 21, loss 3.369526\n",
      "epoch 22, loss 3.064291\n",
      "epoch 23, loss 2.787618\n",
      "epoch 24, loss 2.536738\n",
      "epoch 25, loss 2.309163\n",
      "epoch 26, loss 2.102653\n",
      "epoch 27, loss 1.915193\n",
      "epoch 28, loss 1.744968\n",
      "epoch 29, loss 1.590343\n",
      "epoch 30, loss 1.449842\n",
      "epoch 31, loss 1.322138\n",
      "epoch 32, loss 1.206028\n",
      "epoch 33, loss 1.100430\n",
      "epoch 34, loss 1.004364\n",
      "epoch 35, loss 0.916946\n",
      "epoch 36, loss 0.837375\n",
      "epoch 37, loss 0.764928\n",
      "epoch 38, loss 0.698952\n",
      "epoch 39, loss 0.638851\n",
      "epoch 40, loss 0.584090\n",
      "epoch 41, loss 0.534182\n",
      "epoch 42, loss 0.488686\n",
      "epoch 43, loss 0.447204\n",
      "epoch 44, loss 0.409371\n",
      "epoch 45, loss 0.374860\n",
      "epoch 46, loss 0.343371\n",
      "epoch 47, loss 0.314633\n",
      "epoch 48, loss 0.288402\n",
      "epoch 49, loss 0.264453\n",
      "epoch 50, loss 0.242582\n",
      "epoch 51, loss 0.222606\n",
      "epoch 52, loss 0.204356\n",
      "epoch 53, loss 0.187680\n",
      "epoch 54, loss 0.172439\n",
      "epoch 55, loss 0.158507\n",
      "epoch 56, loss 0.145769\n",
      "epoch 57, loss 0.134119\n",
      "epoch 58, loss 0.123463\n",
      "epoch 59, loss 0.113714\n",
      "epoch 60, loss 0.104794\n",
      "epoch 61, loss 0.096629\n",
      "epoch 62, loss 0.089155\n",
      "epoch 63, loss 0.082311\n",
      "epoch 64, loss 0.076043\n",
      "epoch 65, loss 0.070302\n",
      "epoch 66, loss 0.065042\n",
      "epoch 67, loss 0.060221\n",
      "epoch 68, loss 0.055803\n",
      "epoch 69, loss 0.051752\n",
      "epoch 70, loss 0.048038\n",
      "epoch 71, loss 0.044631\n",
      "epoch 72, loss 0.041506\n",
      "epoch 73, loss 0.038638\n",
      "epoch 74, loss 0.036006\n",
      "epoch 75, loss 0.033589\n",
      "epoch 76, loss 0.031371\n",
      "epoch 77, loss 0.029333\n",
      "epoch 78, loss 0.027461\n",
      "epoch 79, loss 0.025741\n",
      "epoch 80, loss 0.024160\n",
      "epoch 81, loss 0.022706\n",
      "epoch 82, loss 0.021370\n",
      "epoch 83, loss 0.020140\n",
      "epoch 84, loss 0.019010\n",
      "epoch 85, loss 0.017969\n",
      "epoch 86, loss 0.017011\n",
      "epoch 87, loss 0.016129\n",
      "epoch 88, loss 0.015316\n",
      "epoch 89, loss 0.014568\n",
      "epoch 90, loss 0.013878\n",
      "epoch 91, loss 0.013243\n",
      "epoch 92, loss 0.012657\n",
      "epoch 93, loss 0.012117\n",
      "epoch 94, loss 0.011618\n",
      "epoch 95, loss 0.011158\n",
      "epoch 96, loss 0.010734\n",
      "epoch 97, loss 0.010342\n",
      "epoch 98, loss 0.009980\n",
      "epoch 99, loss 0.009645\n",
      "epoch 100, loss 0.009336\n"
     ]
    }
   ],
   "source": [
    "\n",
    "loss=nn.MSELoss()#Mean Square Error\n",
    "\n",
    "#实例化Stochastic Gradient Descent(SGD)随机梯度下降\n",
    "trainer=torch.optim.SGD(net.parameters(),lr=0.03)\n",
    "\n",
    "for epoch in range(epochs):\n",
    "    for X, y in data_iter:\n",
    "        l = loss(net(X) ,y)\n",
    "        trainer.zero_grad()\n",
    "        l.backward()\n",
    "        trainer.step()\n",
    "    l = loss(net(feature), lables)\n",
    "    print(f'epoch {epoch + 1}, loss {l:f}')"
   ]
  },
  {
   "cell_type": "code",
   "execution_count": 203,
   "metadata": {},
   "outputs": [
    {
     "data": {
      "text/plain": [
       "(tensor([[ 1.9736, -3.3804]]), tensor([4.1682]))"
      ]
     },
     "execution_count": 203,
     "metadata": {},
     "output_type": "execute_result"
    }
   ],
   "source": [
    "net[0].weight.data,net[0].bias.data"
   ]
  },
  {
   "cell_type": "code",
   "execution_count": null,
   "metadata": {},
   "outputs": [],
   "source": []
  },
  {
   "cell_type": "code",
   "execution_count": null,
   "metadata": {},
   "outputs": [],
   "source": []
  }
 ],
 "metadata": {
  "kernelspec": {
   "display_name": "Python 3.10.5 64-bit",
   "language": "python",
   "name": "python3"
  },
  "language_info": {
   "codemirror_mode": {
    "name": "ipython",
    "version": 3
   },
   "file_extension": ".py",
   "mimetype": "text/x-python",
   "name": "python",
   "nbconvert_exporter": "python",
   "pygments_lexer": "ipython3",
   "version": "3.10.5"
  },
  "orig_nbformat": 4,
  "vscode": {
   "interpreter": {
    "hash": "09f4728b05d69e74b0ea9aff0073f9d58b230df2a643ed862911c4fa3d476aa5"
   }
  }
 },
 "nbformat": 4,
 "nbformat_minor": 2
}

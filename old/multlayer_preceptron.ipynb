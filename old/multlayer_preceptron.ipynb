{
 "cells": [
  {
   "cell_type": "code",
   "execution_count": 18,
   "metadata": {},
   "outputs": [],
   "source": [
    "import mine_torch\n",
    "import torch\n",
    "import torchvision\n",
    "import matplotlib.pyplot as plt\n",
    "from torch.utils import data\n",
    "from torch import nn"
   ]
  },
  {
   "cell_type": "code",
   "execution_count": 19,
   "metadata": {},
   "outputs": [],
   "source": [
    "\n",
    "num_input=28*28\n",
    "num_hidden=256\n",
    "num_output=10\n",
    "trans = torchvision.transforms.ToTensor()\n",
    "mnist_train = torchvision.datasets.MNIST(\n",
    "    root=\"./data\", train=True, transform=trans, download=True)\n",
    "mnist_test = torchvision.datasets.MNIST(\n",
    "    root=\"./data\", train=False, transform=trans, download=True)"
   ]
  },
  {
   "cell_type": "code",
   "execution_count": 20,
   "metadata": {},
   "outputs": [],
   "source": [
    "#隐藏层\n",
    "W1=torch.normal(0,0.01,size=(num_input,num_hidden),requires_grad=True)\n",
    "b1=torch.zeros(num_hidden,requires_grad=True)\n",
    "\n",
    "#输出层\n",
    "W2=torch.normal(0,0.01,size=(num_hidden,num_output),requires_grad=True)\n",
    "b2=torch.zeros(num_output,requires_grad=True)\n",
    "#不能使用randn来初始化,e^200太大了\n",
    "\n",
    "params=[W1,b1,W2,b2]"
   ]
  },
  {
   "cell_type": "code",
   "execution_count": 21,
   "metadata": {},
   "outputs": [],
   "source": [
    "# 对矩阵的ReLU函数\n",
    "def ReLU(X):\n",
    "    a=torch.zeros_like(X)\n",
    "    return torch.max(a,X)"
   ]
  },
  {
   "cell_type": "code",
   "execution_count": 22,
   "metadata": {},
   "outputs": [],
   "source": [
    "#@为矩阵乘法(torch.mm),*为点乘\n",
    "def net(X):\n",
    "    # X=X.reshape(-1,num_input)\n",
    "    H=ReLU(X@W1+b1)\n",
    "    return H@W2+b2\n",
    "\n",
    "mygpu = torch.device('cuda')\n",
    "for param in params:\n",
    "    param=param\n"
   ]
  },
  {
   "cell_type": "code",
   "execution_count": 23,
   "metadata": {},
   "outputs": [
    {
     "name": "stdout",
     "output_type": "stream",
     "text": [
      "epoch 1, loss 2.301951\n",
      "epoch 2, loss 2.287735\n",
      "epoch 3, loss 2.271184\n",
      "epoch 4, loss 2.247899\n",
      "epoch 5, loss 2.213721\n",
      "epoch 6, loss 2.163890\n",
      "epoch 7, loss 2.093113\n",
      "epoch 8, loss 1.996882\n",
      "epoch 9, loss 1.873359\n",
      "epoch 10, loss 1.725708\n"
     ]
    }
   ],
   "source": [
    "epochs=10\n",
    "lr=0.6\n",
    "X=mine_torch.my_reshape(mnist_train,num_input)\n",
    "y=torch.tensor([i[1] for i in mnist_train])\n",
    "\n",
    "loss_list=[]\n",
    "acc_list=[]\n",
    "\n",
    "def net(X):\n",
    "    # X=X.reshape(-1,num_input)\n",
    "    H=ReLU(X@W1+b1)\n",
    "    return mine_torch.softmax(H@W2+b2)\n",
    "\n",
    "mine_torch.mine_SGD([W1,b1,W2,b2],lr,mine_torch.cross_entropy,epochs,X,y,net,loss_list,acc_list)"
   ]
  },
  {
   "cell_type": "code",
   "execution_count": 24,
   "metadata": {},
   "outputs": [
    {
     "data": {
      "text/plain": [
       "[<matplotlib.lines.Line2D at 0x266983685b0>]"
      ]
     },
     "execution_count": 24,
     "metadata": {},
     "output_type": "execute_result"
    },
    {
     "data": {
      "image/png": "[encoded data removed]",
      "text/plain": [
       "<Figure size 432x288 with 1 Axes>"
      ]
     },
     "metadata": {
      "needs_background": "light"
     },
     "output_type": "display_data"
    }
   ],
   "source": [
    "fig,ax=plt.subplots()\n",
    "ax.scatter(range(int(epochs)),loss_list)\n",
    "ax.plot(range(int(epochs)),loss_list)\n",
    "ax.scatter(range(int(epochs)),acc_list)\n",
    "ax.plot(range(int(epochs)),acc_list)\n"
   ]
  },
  {
   "cell_type": "code",
   "execution_count": 25,
   "metadata": {},
   "outputs": [
    {
     "name": "stdout",
     "output_type": "stream",
     "text": [
      "predict:3 real:5\n",
      "predict:0 real:0\n",
      "predict:4 real:4\n",
      "predict:1 real:1\n",
      "predict:9 real:9\n",
      "predict:2 real:2\n",
      "predict:1 real:1\n",
      "predict:3 real:3\n",
      "predict:1 real:1\n",
      "predict:4 real:4\n",
      "predict:3 real:3\n",
      "predict:1 real:5\n",
      "predict:3 real:3\n",
      "predict:6 real:6\n",
      "predict:1 real:1\n",
      "predict:7 real:7\n",
      "predict:2 real:2\n",
      "predict:8 real:8\n",
      "predict:6 real:6\n",
      "predict:7 real:9\n",
      "predict:4 real:4\n",
      "predict:0 real:0\n",
      "predict:9 real:9\n",
      "predict:1 real:1\n",
      "predict:2 real:1\n",
      "predict:3 real:2\n",
      "predict:9 real:4\n",
      "predict:3 real:3\n",
      "predict:7 real:2\n",
      "predict:1 real:7\n",
      "predict:3 real:3\n",
      "predict:1 real:8\n",
      "predict:6 real:6\n",
      "predict:7 real:9\n",
      "predict:0 real:0\n",
      "predict:1 real:5\n",
      "predict:6 real:6\n",
      "predict:0 real:0\n",
      "predict:7 real:7\n",
      "predict:6 real:6\n",
      "predict:1 real:1\n",
      "predict:8 real:8\n",
      "predict:7 real:7\n",
      "predict:7 real:9\n",
      "predict:3 real:3\n",
      "predict:9 real:9\n",
      "predict:8 real:8\n",
      "predict:8 real:5\n",
      "predict:3 real:9\n",
      "predict:3 real:3\n"
     ]
    }
   ],
   "source": [
    "for i in range(50):\n",
    "    print(f'predict:{net(X)[i].argmax()} real:{y[i]}')"
   ]
  },
  {
   "cell_type": "code",
   "execution_count": 26,
   "metadata": {},
   "outputs": [
    {
     "data": {
      "text/plain": [
       "0.70705"
      ]
     },
     "execution_count": 26,
     "metadata": {},
     "output_type": "execute_result"
    }
   ],
   "source": [
    "mine_torch.calc_acc(X,y,net)"
   ]
  },
  {
   "cell_type": "code",
   "execution_count": 32,
   "metadata": {},
   "outputs": [
    {
     "data": {
      "text/plain": [
       "device(type='cuda', index=0)"
      ]
     },
     "execution_count": 32,
     "metadata": {},
     "output_type": "execute_result"
    }
   ],
   "source": [
    "X=X.cuda(mygpu)\n",
    "y=y.cuda(mygpu)\n",
    "X.device"
   ]
  },
  {
   "cell_type": "code",
   "execution_count": 33,
   "metadata": {},
   "outputs": [
    {
     "name": "stdout",
     "output_type": "stream",
     "text": [
      "epoch 1, loss 1.920512\n",
      "epoch 2, loss 0.723877\n",
      "epoch 3, loss 0.516867\n",
      "epoch 4, loss 0.433449\n",
      "epoch 5, loss 0.396323\n",
      "epoch 6, loss 0.357790\n",
      "epoch 7, loss 0.331620\n",
      "epoch 8, loss 0.305136\n",
      "epoch 9, loss 0.289242\n",
      "epoch 10, loss 0.285513\n"
     ]
    }
   ],
   "source": [
    "#利用API\n",
    "epochs=10\n",
    "train_iter=data.DataLoader(mnist_train,256,True)\n",
    "net=nn.Sequential(nn.Flatten(),nn.Linear(784,256),nn.Dropout(0.8),nn.ReLU(),nn.Linear(256,256),nn.ReLU(),nn.Linear(256,10))\n",
    "\n",
    "net.apply(mine_torch.init_normal)\n",
    "net.to(mygpu)\n",
    "loss=nn.CrossEntropyLoss()\n",
    "\n",
    "trainer=torch.optim.SGD(net.parameters(),lr=0.1)\n",
    "for epoch in range(epochs):\n",
    "    for Xi, yi in train_iter:#迭代器每次返回X和y\n",
    "        Xi=Xi.to(mygpu)\n",
    "        yi=yi.to(mygpu)#放在gpu上训练\n",
    "        \n",
    "        l = loss(net(Xi) ,yi)\n",
    "        trainer.zero_grad()#清零梯度\n",
    "        l.backward()\n",
    "        trainer.step()#自动前进\n",
    "    l = loss(net(X), y)#每轮再计算loss\n",
    "    print(f'epoch {epoch + 1}, loss {l:f}')"
   ]
  },
  {
   "cell_type": "code",
   "execution_count": null,
   "metadata": {},
   "outputs": [
    {
     "data": {
      "text/plain": [
       "0.9479166666666666"
      ]
     },
     "execution_count": 70,
     "metadata": {},
     "output_type": "execute_result"
    }
   ],
   "source": [
    "mine_torch.calc_acc(X,y,net)"
   ]
  },
  {
   "cell_type": "code",
   "execution_count": null,
   "metadata": {},
   "outputs": [
    {
     "data": {
      "text/plain": [
       "0.9104"
      ]
     },
     "execution_count": 71,
     "metadata": {},
     "output_type": "execute_result"
    }
   ],
   "source": [
    "X_test=mine_torch.my_reshape(mnist_test,num_input)\n",
    "y_test=torch.tensor([i[1] for i in mnist_test])\n",
    "\n",
    "mine_torch.calc_acc(X_test,y_test,net)"
   ]
  },
  {
   "cell_type": "code",
   "execution_count": null,
   "metadata": {},
   "outputs": [
    {
     "name": "stdout",
     "output_type": "stream",
     "text": [
      "predict:7 real:7\n",
      "predict:6 real:2\n",
      "predict:1 real:1\n",
      "predict:0 real:0\n",
      "predict:4 real:4\n",
      "predict:1 real:1\n",
      "predict:4 real:4\n",
      "predict:9 real:9\n",
      "predict:6 real:5\n",
      "predict:9 real:9\n",
      "predict:0 real:0\n",
      "predict:6 real:6\n",
      "predict:9 real:9\n",
      "predict:0 real:0\n",
      "predict:1 real:1\n",
      "predict:5 real:5\n",
      "predict:9 real:9\n",
      "predict:7 real:7\n",
      "predict:3 real:3\n",
      "predict:4 real:4\n",
      "predict:9 real:9\n",
      "predict:6 real:6\n",
      "predict:6 real:6\n",
      "predict:5 real:5\n",
      "predict:4 real:4\n",
      "predict:0 real:0\n",
      "predict:7 real:7\n",
      "predict:4 real:4\n",
      "predict:0 real:0\n",
      "predict:1 real:1\n",
      "predict:3 real:3\n",
      "predict:1 real:1\n",
      "predict:3 real:3\n",
      "predict:6 real:4\n",
      "predict:7 real:7\n",
      "predict:2 real:2\n",
      "predict:7 real:7\n",
      "predict:1 real:1\n",
      "predict:2 real:2\n",
      "predict:1 real:1\n",
      "predict:1 real:1\n",
      "predict:7 real:7\n",
      "predict:4 real:4\n",
      "predict:1 real:2\n",
      "predict:3 real:3\n",
      "predict:5 real:5\n",
      "predict:1 real:1\n",
      "predict:2 real:2\n",
      "predict:4 real:4\n",
      "predict:4 real:4\n"
     ]
    }
   ],
   "source": [
    "mine_torch.see_example(X_test,y_test,net)"
   ]
  },
  {
   "cell_type": "code",
   "execution_count": null,
   "metadata": {},
   "outputs": [],
   "source": []
  }
 ],
 "metadata": {
  "kernelspec": {
   "display_name": "Python 3.10.5 64-bit",
   "language": "python",
   "name": "python3"
  },
  "language_info": {
   "codemirror_mode": {
    "name": "ipython",
    "version": 3
   },
   "file_extension": ".py",
   "mimetype": "text/x-python",
   "name": "python",
   "nbconvert_exporter": "python",
   "pygments_lexer": "ipython3",
   "version": "3.10.5"
  },
  "orig_nbformat": 4,
  "vscode": {
   "interpreter": {
    "hash": "09f4728b05d69e74b0ea9aff0073f9d58b230df2a643ed862911c4fa3d476aa5"
   }
  }
 },
 "nbformat": 4,
 "nbformat_minor": 2
}

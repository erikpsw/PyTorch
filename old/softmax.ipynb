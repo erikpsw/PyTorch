{
 "cells": [
  {
   "cell_type": "markdown",
   "metadata": {},
   "source": [
    "输出的为每一类的置信值$\\bf y$\n",
    "\n",
    "$$\\hat{y}=\\argmax _i{o_i}$$\n",
    "\n",
    "对于特殊,要拉开距离\n",
    "$$o_y-o_i\\ge \\Delta (y,i)$$\n",
    "\n",
    "将结果转换为概率\n",
    "$$\\hat{\\mathbf{y}} = \\mathrm{softmax}(\\mathbf{o})\\quad \\text{其中}\\quad \\hat{y}_j = \\frac{\\exp(o_j)}{\\sum_k \\exp(o_k)}$$\n",
    "\n",
    "信息熵\n",
    "$$H[P] = \\sum_j - P(j) \\log P(j)$$\n",
    "交叉熵\n",
    "$$l(\\mathbf{y}, \\hat{\\mathbf{y}}) = - \\sum_{j=1}^q y_j \\log \\hat{y}_j$$\n",
    "$\\bf y$是一个长度$q$为的独热编码向量,其中只有$y_y=1$\n",
    "\n",
    "所以$l(\\mathbf{y}, \\hat{\\mathbf{y}}) = -\\log \\hat{y}_y$"
   ]
  },
  {
   "cell_type": "markdown",
   "metadata": {},
   "source": [
    "$$\\begin{split}\\begin{aligned}\n",
    "l(\\mathbf{y}, \\hat{\\mathbf{y}}) &=  - \\sum_{j=1}^q y_j \\log \\frac{\\exp(o_j)}{\\sum_{k=1}^q \\exp(o_k)} \\\\\n",
    "&= \\sum_{j=1}^q y_j \\log \\sum_{k=1}^q \\exp(o_k) - \\sum_{j=1}^q y_j o_j\\\\\n",
    "&= \\log \\sum_{k=1}^q \\exp(o_k) - \\sum_{j=1}^q y_j o_j.\n",
    "\\end{aligned}\\end{split}\\\\\n",
    "\\partial_{o_j} l(\\mathbf{y}, \\hat{\\mathbf{y}}) = \\frac{\\exp(o_j)}{\\sum_{k=1}^q \\exp(o_k)} - y_j = \\mathrm{softmax}(\\mathbf{o})_j - y_j.$$"
   ]
  },
  {
   "cell_type": "code",
   "execution_count": 1,
   "metadata": {},
   "outputs": [
    {
     "data": {
      "image/png": "[encoded data removed]",
      "text/plain": [
       "<Figure size 432x288 with 1 Axes>"
      ]
     },
     "metadata": {
      "needs_background": "light"
     },
     "output_type": "display_data"
    }
   ],
   "source": [
    "import mine_torch\n",
    "import torch\n",
    "import torchvision\n",
    "import matplotlib.pyplot as plt\n",
    "from torch.utils import data\n",
    "import numpy as np\n",
    "from torch import nn\n",
    "\n",
    "# 通过ToTensor实例将图像数据从PIL类型变换成32位浮点数格式，\n",
    "# 并除以255使得所有像素的数值均在0到1之间\n",
    "trans = torchvision.transforms.ToTensor()\n",
    "mnist_train = torchvision.datasets.MNIST(\n",
    "    root=\"./data\", train=True, transform=trans, download=True)\n",
    "mnist_test = torchvision.datasets.MNIST(\n",
    "    root=\"./data\", train=False, transform=trans, download=True)\n",
    "plt.imshow(mnist_train[0][0][0])\n",
    "plt.show()"
   ]
  },
  {
   "cell_type": "code",
   "execution_count": 2,
   "metadata": {},
   "outputs": [
    {
     "data": {
      "text/plain": [
       "tensor([[[0.0000, 0.0000, 0.0000, 0.0000, 0.0000, 0.0000, 0.0000, 0.0000,\n",
       "          0.0000, 0.0000, 0.0000, 0.0000, 0.0000, 0.0000, 0.0000, 0.0000,\n",
       "          0.0000, 0.0000, 0.0000, 0.0000, 0.0000, 0.0000, 0.0000, 0.0000,\n",
       "          0.0000, 0.0000, 0.0000, 0.0000],\n",
       "         [0.0000, 0.0000, 0.0000, 0.0000, 0.0000, 0.0000, 0.0000, 0.0000,\n",
       "          0.0000, 0.0000, 0.0000, 0.0000, 0.0000, 0.0000, 0.0000, 0.0000,\n",
       "          0.0000, 0.0000, 0.0000, 0.0000, 0.0000, 0.0000, 0.0000, 0.0000,\n",
       "          0.0000, 0.0000, 0.0000, 0.0000],\n",
       "         [0.0000, 0.0000, 0.0000, 0.0000, 0.0000, 0.0000, 0.0000, 0.0000,\n",
       "          0.0000, 0.0000, 0.0000, 0.0000, 0.0000, 0.0000, 0.0000, 0.0000,\n",
       "          0.0000, 0.0000, 0.0000, 0.0000, 0.0000, 0.0000, 0.0000, 0.0000,\n",
       "          0.0000, 0.0000, 0.0000, 0.0000],\n",
       "         [0.0000, 0.0000, 0.0000, 0.0000, 0.0000, 0.0000, 0.0000, 0.0000,\n",
       "          0.0000, 0.0000, 0.0000, 0.0000, 0.0000, 0.0000, 0.0000, 0.0000,\n",
       "          0.0000, 0.0000, 0.0000, 0.0000, 0.0000, 0.0000, 0.0000, 0.0000,\n",
       "          0.0000, 0.0000, 0.0000, 0.0000],\n",
       "         [0.0000, 0.0000, 0.0000, 0.0000, 0.0000, 0.0000, 0.0000, 0.0000,\n",
       "          0.0000, 0.0000, 0.0000, 0.0000, 0.0000, 0.0000, 0.0000, 0.0000,\n",
       "          0.0000, 0.0000, 0.0000, 0.0000, 0.0000, 0.0000, 0.0000, 0.0000,\n",
       "          0.0000, 0.0000, 0.0000, 0.0000],\n",
       "         [0.0000, 0.0000, 0.0000, 0.0000, 0.0000, 0.0000, 0.0000, 0.0000,\n",
       "          0.0000, 0.0000, 0.0000, 0.0000, 0.0118, 0.0706, 0.0706, 0.0706,\n",
       "          0.4941, 0.5333, 0.6863, 0.1020, 0.6510, 1.0000, 0.9686, 0.4980,\n",
       "          0.0000, 0.0000, 0.0000, 0.0000],\n",
       "         [0.0000, 0.0000, 0.0000, 0.0000, 0.0000, 0.0000, 0.0000, 0.0000,\n",
       "          0.1176, 0.1412, 0.3686, 0.6039, 0.6667, 0.9922, 0.9922, 0.9922,\n",
       "          0.9922, 0.9922, 0.8824, 0.6745, 0.9922, 0.9490, 0.7647, 0.2510,\n",
       "          0.0000, 0.0000, 0.0000, 0.0000],\n",
       "         [0.0000, 0.0000, 0.0000, 0.0000, 0.0000, 0.0000, 0.0000, 0.1922,\n",
       "          0.9333, 0.9922, 0.9922, 0.9922, 0.9922, 0.9922, 0.9922, 0.9922,\n",
       "          0.9922, 0.9843, 0.3647, 0.3216, 0.3216, 0.2196, 0.1529, 0.0000,\n",
       "          0.0000, 0.0000, 0.0000, 0.0000],\n",
       "         [0.0000, 0.0000, 0.0000, 0.0000, 0.0000, 0.0000, 0.0000, 0.0706,\n",
       "          0.8588, 0.9922, 0.9922, 0.9922, 0.9922, 0.9922, 0.7765, 0.7137,\n",
       "          0.9686, 0.9451, 0.0000, 0.0000, 0.0000, 0.0000, 0.0000, 0.0000,\n",
       "          0.0000, 0.0000, 0.0000, 0.0000],\n",
       "         [0.0000, 0.0000, 0.0000, 0.0000, 0.0000, 0.0000, 0.0000, 0.0000,\n",
       "          0.3137, 0.6118, 0.4196, 0.9922, 0.9922, 0.8039, 0.0431, 0.0000,\n",
       "          0.1686, 0.6039, 0.0000, 0.0000, 0.0000, 0.0000, 0.0000, 0.0000,\n",
       "          0.0000, 0.0000, 0.0000, 0.0000],\n",
       "         [0.0000, 0.0000, 0.0000, 0.0000, 0.0000, 0.0000, 0.0000, 0.0000,\n",
       "          0.0000, 0.0549, 0.0039, 0.6039, 0.9922, 0.3529, 0.0000, 0.0000,\n",
       "          0.0000, 0.0000, 0.0000, 0.0000, 0.0000, 0.0000, 0.0000, 0.0000,\n",
       "          0.0000, 0.0000, 0.0000, 0.0000],\n",
       "         [0.0000, 0.0000, 0.0000, 0.0000, 0.0000, 0.0000, 0.0000, 0.0000,\n",
       "          0.0000, 0.0000, 0.0000, 0.5451, 0.9922, 0.7451, 0.0078, 0.0000,\n",
       "          0.0000, 0.0000, 0.0000, 0.0000, 0.0000, 0.0000, 0.0000, 0.0000,\n",
       "          0.0000, 0.0000, 0.0000, 0.0000],\n",
       "         [0.0000, 0.0000, 0.0000, 0.0000, 0.0000, 0.0000, 0.0000, 0.0000,\n",
       "          0.0000, 0.0000, 0.0000, 0.0431, 0.7451, 0.9922, 0.2745, 0.0000,\n",
       "          0.0000, 0.0000, 0.0000, 0.0000, 0.0000, 0.0000, 0.0000, 0.0000,\n",
       "          0.0000, 0.0000, 0.0000, 0.0000],\n",
       "         [0.0000, 0.0000, 0.0000, 0.0000, 0.0000, 0.0000, 0.0000, 0.0000,\n",
       "          0.0000, 0.0000, 0.0000, 0.0000, 0.1373, 0.9451, 0.8824, 0.6275,\n",
       "          0.4235, 0.0039, 0.0000, 0.0000, 0.0000, 0.0000, 0.0000, 0.0000,\n",
       "          0.0000, 0.0000, 0.0000, 0.0000],\n",
       "         [0.0000, 0.0000, 0.0000, 0.0000, 0.0000, 0.0000, 0.0000, 0.0000,\n",
       "          0.0000, 0.0000, 0.0000, 0.0000, 0.0000, 0.3176, 0.9412, 0.9922,\n",
       "          0.9922, 0.4667, 0.0980, 0.0000, 0.0000, 0.0000, 0.0000, 0.0000,\n",
       "          0.0000, 0.0000, 0.0000, 0.0000],\n",
       "         [0.0000, 0.0000, 0.0000, 0.0000, 0.0000, 0.0000, 0.0000, 0.0000,\n",
       "          0.0000, 0.0000, 0.0000, 0.0000, 0.0000, 0.0000, 0.1765, 0.7294,\n",
       "          0.9922, 0.9922, 0.5882, 0.1059, 0.0000, 0.0000, 0.0000, 0.0000,\n",
       "          0.0000, 0.0000, 0.0000, 0.0000],\n",
       "         [0.0000, 0.0000, 0.0000, 0.0000, 0.0000, 0.0000, 0.0000, 0.0000,\n",
       "          0.0000, 0.0000, 0.0000, 0.0000, 0.0000, 0.0000, 0.0000, 0.0627,\n",
       "          0.3647, 0.9882, 0.9922, 0.7333, 0.0000, 0.0000, 0.0000, 0.0000,\n",
       "          0.0000, 0.0000, 0.0000, 0.0000],\n",
       "         [0.0000, 0.0000, 0.0000, 0.0000, 0.0000, 0.0000, 0.0000, 0.0000,\n",
       "          0.0000, 0.0000, 0.0000, 0.0000, 0.0000, 0.0000, 0.0000, 0.0000,\n",
       "          0.0000, 0.9765, 0.9922, 0.9765, 0.2510, 0.0000, 0.0000, 0.0000,\n",
       "          0.0000, 0.0000, 0.0000, 0.0000],\n",
       "         [0.0000, 0.0000, 0.0000, 0.0000, 0.0000, 0.0000, 0.0000, 0.0000,\n",
       "          0.0000, 0.0000, 0.0000, 0.0000, 0.0000, 0.0000, 0.1804, 0.5098,\n",
       "          0.7176, 0.9922, 0.9922, 0.8118, 0.0078, 0.0000, 0.0000, 0.0000,\n",
       "          0.0000, 0.0000, 0.0000, 0.0000],\n",
       "         [0.0000, 0.0000, 0.0000, 0.0000, 0.0000, 0.0000, 0.0000, 0.0000,\n",
       "          0.0000, 0.0000, 0.0000, 0.0000, 0.1529, 0.5804, 0.8980, 0.9922,\n",
       "          0.9922, 0.9922, 0.9804, 0.7137, 0.0000, 0.0000, 0.0000, 0.0000,\n",
       "          0.0000, 0.0000, 0.0000, 0.0000],\n",
       "         [0.0000, 0.0000, 0.0000, 0.0000, 0.0000, 0.0000, 0.0000, 0.0000,\n",
       "          0.0000, 0.0000, 0.0941, 0.4471, 0.8667, 0.9922, 0.9922, 0.9922,\n",
       "          0.9922, 0.7882, 0.3059, 0.0000, 0.0000, 0.0000, 0.0000, 0.0000,\n",
       "          0.0000, 0.0000, 0.0000, 0.0000],\n",
       "         [0.0000, 0.0000, 0.0000, 0.0000, 0.0000, 0.0000, 0.0000, 0.0000,\n",
       "          0.0902, 0.2588, 0.8353, 0.9922, 0.9922, 0.9922, 0.9922, 0.7765,\n",
       "          0.3176, 0.0078, 0.0000, 0.0000, 0.0000, 0.0000, 0.0000, 0.0000,\n",
       "          0.0000, 0.0000, 0.0000, 0.0000],\n",
       "         [0.0000, 0.0000, 0.0000, 0.0000, 0.0000, 0.0000, 0.0706, 0.6706,\n",
       "          0.8588, 0.9922, 0.9922, 0.9922, 0.9922, 0.7647, 0.3137, 0.0353,\n",
       "          0.0000, 0.0000, 0.0000, 0.0000, 0.0000, 0.0000, 0.0000, 0.0000,\n",
       "          0.0000, 0.0000, 0.0000, 0.0000],\n",
       "         [0.0000, 0.0000, 0.0000, 0.0000, 0.2157, 0.6745, 0.8863, 0.9922,\n",
       "          0.9922, 0.9922, 0.9922, 0.9569, 0.5216, 0.0431, 0.0000, 0.0000,\n",
       "          0.0000, 0.0000, 0.0000, 0.0000, 0.0000, 0.0000, 0.0000, 0.0000,\n",
       "          0.0000, 0.0000, 0.0000, 0.0000],\n",
       "         [0.0000, 0.0000, 0.0000, 0.0000, 0.5333, 0.9922, 0.9922, 0.9922,\n",
       "          0.8314, 0.5294, 0.5176, 0.0627, 0.0000, 0.0000, 0.0000, 0.0000,\n",
       "          0.0000, 0.0000, 0.0000, 0.0000, 0.0000, 0.0000, 0.0000, 0.0000,\n",
       "          0.0000, 0.0000, 0.0000, 0.0000],\n",
       "         [0.0000, 0.0000, 0.0000, 0.0000, 0.0000, 0.0000, 0.0000, 0.0000,\n",
       "          0.0000, 0.0000, 0.0000, 0.0000, 0.0000, 0.0000, 0.0000, 0.0000,\n",
       "          0.0000, 0.0000, 0.0000, 0.0000, 0.0000, 0.0000, 0.0000, 0.0000,\n",
       "          0.0000, 0.0000, 0.0000, 0.0000],\n",
       "         [0.0000, 0.0000, 0.0000, 0.0000, 0.0000, 0.0000, 0.0000, 0.0000,\n",
       "          0.0000, 0.0000, 0.0000, 0.0000, 0.0000, 0.0000, 0.0000, 0.0000,\n",
       "          0.0000, 0.0000, 0.0000, 0.0000, 0.0000, 0.0000, 0.0000, 0.0000,\n",
       "          0.0000, 0.0000, 0.0000, 0.0000],\n",
       "         [0.0000, 0.0000, 0.0000, 0.0000, 0.0000, 0.0000, 0.0000, 0.0000,\n",
       "          0.0000, 0.0000, 0.0000, 0.0000, 0.0000, 0.0000, 0.0000, 0.0000,\n",
       "          0.0000, 0.0000, 0.0000, 0.0000, 0.0000, 0.0000, 0.0000, 0.0000,\n",
       "          0.0000, 0.0000, 0.0000, 0.0000]]])"
      ]
     },
     "execution_count": 2,
     "metadata": {},
     "output_type": "execute_result"
    }
   ],
   "source": [
    "mnist_train[0][0]#第0维是某个example\n",
    "#第一维为一个元组(data,lable)\n",
    "#图像为(1,28,28),1代表单通道"
   ]
  },
  {
   "cell_type": "code",
   "execution_count": 3,
   "metadata": {},
   "outputs": [
    {
     "data": {
      "image/png": "[encoded data removed]",
      "text/plain": [
       "<Figure size 432x288 with 6 Axes>"
      ]
     },
     "metadata": {
      "needs_background": "light"
     },
     "output_type": "display_data"
    }
   ],
   "source": [
    "fig,axes=plt.subplots(2,3)\n",
    "axes=axes.flatten()#一维\n",
    "for i in range(6):\n",
    "    ax=axes[i]\n",
    "    ax.get_xaxis().set_visible(False)\n",
    "    ax.get_yaxis().set_visible(False)\n",
    "    ax.imshow(mnist_train[i][0][0])\n",
    "    ax.set_title(mnist_train[i][1])\n",
    "plt.show()"
   ]
  },
  {
   "cell_type": "code",
   "execution_count": 4,
   "metadata": {},
   "outputs": [],
   "source": [
    "batch_size=256\n",
    "num_input=28*28\n",
    "num_output=10\n",
    "\n",
    "train_iter=data.DataLoader(mnist_train,256,True)\n",
    "test_iter=data.DataLoader(mnist_test,256,True)\n",
    "W=torch.normal(0,0.01,size=(num_input,num_output),requires_grad=True)\n",
    "b=torch.zeros(num_output,requires_grad=True)\n",
    "\n",
    "def softmax(X):\n",
    "    X_exp=torch.exp(X)\n",
    "    partition=X_exp.sum(dim=1,keepdim=True)#dim=0 列 1为行\n",
    "    return X_exp/partition#广播机制 自动补全\n",
    "\n",
    "def net(X):#数据(256*784) W(784,10)\n",
    "    return softmax(torch.matmul(X.reshape((-1,num_input)),W)+b)\n"
   ]
  },
  {
   "cell_type": "code",
   "execution_count": 5,
   "metadata": {},
   "outputs": [
    {
     "data": {
      "text/plain": [
       "tensor([0.1000, 0.5000])"
      ]
     },
     "execution_count": 5,
     "metadata": {},
     "output_type": "execute_result"
    }
   ],
   "source": [
    "y = torch.tensor([0, 2])#直接写索引就行\n",
    "y_hat = torch.tensor([[0.1, 0.3, 0.6], [0.3, 0.2, 0.5]])\n",
    "y_hat[[0, 1], y]#[y_hat[0,0],y_hat[1,2]]"
   ]
  },
  {
   "cell_type": "code",
   "execution_count": 6,
   "metadata": {},
   "outputs": [
    {
     "data": {
      "text/plain": [
       "tensor([2.3026, 0.6931])"
      ]
     },
     "execution_count": 6,
     "metadata": {},
     "output_type": "execute_result"
    }
   ],
   "source": [
    "def cross_entropy(y_hat, y):\n",
    "    return - torch.log(y_hat[range(len(y_hat)), y])\n",
    "\n",
    "cross_entropy(y_hat, y)"
   ]
  },
  {
   "cell_type": "code",
   "execution_count": 7,
   "metadata": {},
   "outputs": [
    {
     "data": {
      "text/plain": [
       "torch.Size([60000, 784])"
      ]
     },
     "execution_count": 7,
     "metadata": {},
     "output_type": "execute_result"
    }
   ],
   "source": [
    "def my_reshape(X):\n",
    "    temp=[i[0].reshape(num_input) for i in X]\n",
    "    res=torch.zeros(len(X),num_input)#形状必须完全一致\n",
    "\n",
    "    for i in range(len(X)):\n",
    "        res[i]=temp[i]\n",
    "    return res\n",
    "\n",
    "mnist_train_features=my_reshape(mnist_train)\n",
    "mnist_test_features=my_reshape(mnist_test)\n",
    "mnist_train_features.shape"
   ]
  },
  {
   "cell_type": "code",
   "execution_count": 8,
   "metadata": {},
   "outputs": [
    {
     "data": {
      "text/plain": [
       "torch.Size([60000, 10])"
      ]
     },
     "execution_count": 8,
     "metadata": {},
     "output_type": "execute_result"
    }
   ],
   "source": [
    "\n",
    "def one_hot_lables(X):#独热化标签\n",
    "    lable_temp=torch.zeros(len(X),num_output)\n",
    "    index=[i[1] for i in X]\n",
    "    for i in range(len(X)):\n",
    "        lable_temp[i][index[i]]=1\n",
    "    return lable_temp\n",
    "one_hot_lables(mnist_train).shape\n"
   ]
  },
  {
   "cell_type": "code",
   "execution_count": 9,
   "metadata": {},
   "outputs": [
    {
     "data": {
      "text/plain": [
       "tensor(1.0000, grad_fn=<SumBackward0>)"
      ]
     },
     "execution_count": 9,
     "metadata": {},
     "output_type": "execute_result"
    }
   ],
   "source": [
    "net(mnist_train_features)[0].sum()"
   ]
  },
  {
   "cell_type": "code",
   "execution_count": 10,
   "metadata": {},
   "outputs": [],
   "source": [
    "def cal_acc(X,y):\n",
    "    tot=0\n",
    "    for i in range(X.shape[0]):\n",
    "        if(net(X[i]).argmax()==y[i]):\n",
    "            tot+=1\n",
    "    return tot/X.shape[0]\n",
    "#计算准确率"
   ]
  },
  {
   "cell_type": "code",
   "execution_count": 11,
   "metadata": {},
   "outputs": [
    {
     "data": {
      "text/plain": [
       "0.10706666666666667"
      ]
     },
     "execution_count": 11,
     "metadata": {},
     "output_type": "execute_result"
    }
   ],
   "source": [
    "y_train=torch.tensor([i[1] for i in mnist_train])\n",
    "y_test=torch.tensor([i[1] for i in mnist_test])\n",
    "\n",
    "cal_acc(mnist_train_features,y_train)"
   ]
  },
  {
   "cell_type": "code",
   "execution_count": 12,
   "metadata": {},
   "outputs": [
    {
     "name": "stdout",
     "output_type": "stream",
     "text": [
      "epoch 1, loss 2.298024\n",
      "epoch 2, loss 2.212611\n",
      "epoch 3, loss 2.133730\n",
      "epoch 4, loss 2.060031\n",
      "epoch 5, loss 1.990839\n",
      "epoch 6, loss 1.925763\n",
      "epoch 7, loss 1.864524\n",
      "epoch 8, loss 1.806897\n",
      "epoch 9, loss 1.752674\n",
      "epoch 10, loss 1.701655\n",
      "epoch 11, loss 1.653649\n",
      "epoch 12, loss 1.608468\n",
      "epoch 13, loss 1.565933\n",
      "epoch 14, loss 1.525872\n",
      "epoch 15, loss 1.488119\n",
      "epoch 16, loss 1.452519\n",
      "epoch 17, loss 1.418926\n",
      "epoch 18, loss 1.387202\n",
      "epoch 19, loss 1.357217\n",
      "epoch 20, loss 1.328853\n",
      "epoch 21, loss 1.301997\n",
      "epoch 22, loss 1.276546\n",
      "epoch 23, loss 1.252404\n",
      "epoch 24, loss 1.229481\n",
      "epoch 25, loss 1.207696\n",
      "epoch 26, loss 1.186973\n",
      "epoch 27, loss 1.167241\n",
      "epoch 28, loss 1.148435\n",
      "epoch 29, loss 1.130497\n",
      "epoch 30, loss 1.113369\n",
      "epoch 31, loss 1.097001\n",
      "epoch 32, loss 1.081346\n",
      "epoch 33, loss 1.066359\n",
      "epoch 34, loss 1.052001\n",
      "epoch 35, loss 1.038234\n",
      "epoch 36, loss 1.025022\n",
      "epoch 37, loss 1.012334\n",
      "epoch 38, loss 1.000140\n",
      "epoch 39, loss 0.988412\n",
      "epoch 40, loss 0.977123\n",
      "epoch 41, loss 0.966251\n",
      "epoch 42, loss 0.955772\n",
      "epoch 43, loss 0.945665\n",
      "epoch 44, loss 0.935912\n",
      "epoch 45, loss 0.926493\n",
      "epoch 46, loss 0.917392\n",
      "epoch 47, loss 0.908593\n",
      "epoch 48, loss 0.900081\n",
      "epoch 49, loss 0.891842\n",
      "epoch 50, loss 0.883863\n",
      "epoch 51, loss 0.876132\n",
      "epoch 52, loss 0.868637\n",
      "epoch 53, loss 0.861367\n",
      "epoch 54, loss 0.854312\n",
      "epoch 55, loss 0.847462\n",
      "epoch 56, loss 0.840810\n",
      "epoch 57, loss 0.834345\n",
      "epoch 58, loss 0.828060\n",
      "epoch 59, loss 0.821947\n",
      "epoch 60, loss 0.815999\n",
      "epoch 61, loss 0.810210\n",
      "epoch 62, loss 0.804572\n",
      "epoch 63, loss 0.799080\n",
      "epoch 64, loss 0.793729\n",
      "epoch 65, loss 0.788512\n",
      "epoch 66, loss 0.783424\n",
      "epoch 67, loss 0.778461\n",
      "epoch 68, loss 0.773617\n",
      "epoch 69, loss 0.768889\n",
      "epoch 70, loss 0.764272\n",
      "epoch 71, loss 0.759762\n",
      "epoch 72, loss 0.755356\n",
      "epoch 73, loss 0.751049\n",
      "epoch 74, loss 0.746838\n",
      "epoch 75, loss 0.742720\n",
      "epoch 76, loss 0.738692\n",
      "epoch 77, loss 0.734750\n",
      "epoch 78, loss 0.730892\n",
      "epoch 79, loss 0.727115\n",
      "epoch 80, loss 0.723416\n",
      "epoch 81, loss 0.719794\n",
      "epoch 82, loss 0.716244\n",
      "epoch 83, loss 0.712766\n",
      "epoch 84, loss 0.709357\n",
      "epoch 85, loss 0.706014\n",
      "epoch 86, loss 0.702736\n",
      "epoch 87, loss 0.699521\n",
      "epoch 88, loss 0.696367\n",
      "epoch 89, loss 0.693272\n",
      "epoch 90, loss 0.690234\n",
      "epoch 91, loss 0.687252\n",
      "epoch 92, loss 0.684324\n",
      "epoch 93, loss 0.681449\n",
      "epoch 94, loss 0.678624\n",
      "epoch 95, loss 0.675850\n",
      "epoch 96, loss 0.673123\n",
      "epoch 97, loss 0.670444\n",
      "epoch 98, loss 0.667811\n",
      "epoch 99, loss 0.665222\n",
      "epoch 100, loss 0.662676\n"
     ]
    }
   ],
   "source": [
    "loss=cross_entropy(net(mnist_train_features),y_train).mean()\n",
    "\n",
    "epochs=100\n",
    "lr=0.08\n",
    "acc=[]#准确率\n",
    "length=len(mnist_train)\n",
    "for epoch in range(epochs):\n",
    "    loss=cross_entropy(net(mnist_train_features),y_train).mean()\n",
    "    loss.backward()\n",
    "    \n",
    "    with torch.no_grad():#更新时不用计算梯度\n",
    "        #非常重要\n",
    "        W-=(W.grad)*lr\n",
    "        W.grad.zero_()\n",
    "        b-=(b.grad)*lr\n",
    "        b.grad.zero_()\n",
    "    if(epoch%10==0):\n",
    "        acc.append(cal_acc(mnist_train_features,y_train))\n",
    "    print(f'epoch {epoch + 1}, loss {loss.item():f}')\n",
    "\n"
   ]
  },
  {
   "cell_type": "code",
   "execution_count": 13,
   "metadata": {},
   "outputs": [
    {
     "data": {
      "text/plain": [
       "0.8552166666666666"
      ]
     },
     "execution_count": 13,
     "metadata": {},
     "output_type": "execute_result"
    }
   ],
   "source": [
    "cal_acc(mnist_train_features,y_train)"
   ]
  },
  {
   "cell_type": "code",
   "execution_count": 14,
   "metadata": {},
   "outputs": [
    {
     "name": "stdout",
     "output_type": "stream",
     "text": [
      "predict:5 real:5\n",
      "predict:0 real:0\n",
      "predict:4 real:4\n",
      "predict:1 real:1\n",
      "predict:9 real:9\n",
      "predict:2 real:2\n",
      "predict:1 real:1\n",
      "predict:3 real:3\n",
      "predict:1 real:1\n",
      "predict:4 real:4\n",
      "predict:3 real:3\n",
      "predict:2 real:5\n",
      "predict:3 real:3\n",
      "predict:6 real:6\n",
      "predict:1 real:1\n",
      "predict:7 real:7\n",
      "predict:2 real:2\n",
      "predict:8 real:8\n",
      "predict:6 real:6\n",
      "predict:7 real:9\n",
      "predict:4 real:4\n",
      "predict:0 real:0\n",
      "predict:9 real:9\n",
      "predict:1 real:1\n",
      "predict:6 real:1\n",
      "predict:2 real:2\n",
      "predict:4 real:4\n",
      "predict:3 real:3\n",
      "predict:7 real:2\n",
      "predict:7 real:7\n",
      "predict:3 real:3\n",
      "predict:8 real:8\n",
      "predict:6 real:6\n",
      "predict:7 real:9\n",
      "predict:0 real:0\n",
      "predict:5 real:5\n",
      "predict:6 real:6\n",
      "predict:0 real:0\n",
      "predict:7 real:7\n",
      "predict:6 real:6\n",
      "predict:1 real:1\n",
      "predict:8 real:8\n",
      "predict:7 real:7\n",
      "predict:9 real:9\n",
      "predict:3 real:3\n",
      "predict:9 real:9\n",
      "predict:8 real:8\n",
      "predict:5 real:5\n",
      "predict:5 real:9\n",
      "predict:3 real:3\n"
     ]
    }
   ],
   "source": [
    "for i in range(50):\n",
    "    print(f'predict:{net(mnist_train_features[i]).argmax()} real:{y_train[i]}')"
   ]
  },
  {
   "cell_type": "code",
   "execution_count": 15,
   "metadata": {},
   "outputs": [
    {
     "data": {
      "text/plain": [
       "[<matplotlib.lines.Line2D at 0x1e94b9a9d50>]"
      ]
     },
     "execution_count": 15,
     "metadata": {},
     "output_type": "execute_result"
    },
    {
     "data": {
      "image/png": "[encoded data removed]",
      "text/plain": [
       "<Figure size 576x396 with 1 Axes>"
      ]
     },
     "metadata": {},
     "output_type": "display_data"
    }
   ],
   "source": [
    "plt.style.use('seaborn')\n",
    "fig,ax=plt.subplots()\n",
    "ax.set_title(\"accuracy\")\n",
    "ax.scatter(range(int(epochs/10)),acc)\n",
    "ax.plot(range(int(epochs/10)),acc)"
   ]
  },
  {
   "cell_type": "code",
   "execution_count": 16,
   "metadata": {},
   "outputs": [
    {
     "data": {
      "text/plain": [
       "0.8648"
      ]
     },
     "execution_count": 16,
     "metadata": {},
     "output_type": "execute_result"
    }
   ],
   "source": [
    "cal_acc(mnist_test_features,y_test)"
   ]
  },
  {
   "cell_type": "code",
   "execution_count": 17,
   "metadata": {},
   "outputs": [
    {
     "name": "stdout",
     "output_type": "stream",
     "text": [
      "epoch 0, accuracy 0.349683\n",
      "epoch 10, accuracy 0.747567\n",
      "epoch 20, accuracy 0.794283\n",
      "epoch 30, accuracy 0.805483\n",
      "epoch 40, accuracy 0.818317\n",
      "epoch 50, accuracy 0.832100\n",
      "epoch 60, accuracy 0.834150\n",
      "epoch 70, accuracy 0.843567\n",
      "epoch 80, accuracy 0.850367\n",
      "epoch 90, accuracy 0.850017\n"
     ]
    }
   ],
   "source": [
    "#实现批量梯度下降\n",
    "#ratio指acc的百分比\n",
    "ratio=10\n",
    "W=torch.normal(0,0.01,size=(num_input,num_output),requires_grad=True)\n",
    "b=torch.zeros(num_output,requires_grad=True)\n",
    "\n",
    "for epoch in range(epochs):\n",
    "    out=mine_torch.select(mnist_train_features,y_train,256)\n",
    "    loss=cross_entropy(net(out[0]),out[1]).mean()\n",
    "    loss.backward()\n",
    "\n",
    "    with torch.no_grad():#更新时不用计算梯度\n",
    "        #非常重要\n",
    "        W-=(W.grad)*lr\n",
    "        W.grad.zero_()  \n",
    "        b-=(b.grad)*lr\n",
    "        b.grad.zero_()\n",
    "    if(epoch%ratio==0):\n",
    "        print(f'epoch {epoch }, accuracy {cal_acc(mnist_train_features,y_train):f}')\n"
   ]
  },
  {
   "cell_type": "code",
   "execution_count": 18,
   "metadata": {},
   "outputs": [
    {
     "data": {
      "text/plain": [
       "0.8522"
      ]
     },
     "execution_count": 18,
     "metadata": {},
     "output_type": "execute_result"
    }
   ],
   "source": [
    "cal_acc(mnist_train_features,y_train)"
   ]
  },
  {
   "cell_type": "code",
   "execution_count": 19,
   "metadata": {},
   "outputs": [
    {
     "data": {
      "text/plain": [
       "tensor([[-0.0004,  0.0135, -0.0215,  ...,  0.0055,  0.0064, -0.0034],\n",
       "        [ 0.0114, -0.0013,  0.0094,  ..., -0.0012,  0.0072, -0.0104],\n",
       "        [-0.0143,  0.0015,  0.0249,  ..., -0.0174,  0.0164, -0.0057],\n",
       "        ...,\n",
       "        [-0.0043,  0.0042,  0.0100,  ...,  0.0039, -0.0056, -0.0051],\n",
       "        [-0.0125,  0.0099,  0.0010,  ..., -0.0012,  0.0108, -0.0112],\n",
       "        [ 0.0235, -0.0099,  0.0093,  ..., -0.0098,  0.0084, -0.0042]])"
      ]
     },
     "execution_count": 19,
     "metadata": {},
     "output_type": "execute_result"
    }
   ],
   "source": [
    "#简洁实现\n",
    "# 将图片展平\n",
    "net=nn.Sequential(nn.Flatten(),nn.Linear(784,10))\n",
    "net[1].weight.data.normal_(0,0.01)"
   ]
  },
  {
   "cell_type": "code",
   "execution_count": 20,
   "metadata": {},
   "outputs": [],
   "source": [
    "loss=nn.CrossEntropyLoss()\n",
    "trainer=torch.optim.SGD(net.parameters(),lr=0.1)"
   ]
  },
  {
   "cell_type": "code",
   "execution_count": 21,
   "metadata": {},
   "outputs": [
    {
     "name": "stdout",
     "output_type": "stream",
     "text": [
      "epoch 1, loss 2.198996\n",
      "epoch 2, loss 2.110306\n",
      "epoch 3, loss 2.012805\n",
      "epoch 4, loss 1.932960\n",
      "epoch 5, loss 1.855852\n",
      "epoch 6, loss 1.785201\n",
      "epoch 7, loss 1.721590\n",
      "epoch 8, loss 1.661037\n",
      "epoch 9, loss 1.604266\n",
      "epoch 10, loss 1.553753\n",
      "epoch 11, loss 1.503500\n",
      "epoch 12, loss 1.458217\n",
      "epoch 13, loss 1.417983\n",
      "epoch 14, loss 1.376527\n",
      "epoch 15, loss 1.338860\n",
      "epoch 16, loss 1.307583\n",
      "epoch 17, loss 1.275011\n",
      "epoch 18, loss 1.241011\n",
      "epoch 19, loss 1.214283\n",
      "epoch 20, loss 1.185017\n",
      "epoch 21, loss 1.161221\n",
      "epoch 22, loss 1.137506\n",
      "epoch 23, loss 1.114617\n",
      "epoch 24, loss 1.095041\n",
      "epoch 25, loss 1.075628\n",
      "epoch 26, loss 1.055705\n",
      "epoch 27, loss 1.039978\n",
      "epoch 28, loss 1.023703\n",
      "epoch 29, loss 1.009192\n",
      "epoch 30, loss 0.993098\n",
      "epoch 31, loss 0.978209\n",
      "epoch 32, loss 0.964902\n",
      "epoch 33, loss 0.953392\n",
      "epoch 34, loss 0.941091\n",
      "epoch 35, loss 0.929619\n",
      "epoch 36, loss 0.917405\n",
      "epoch 37, loss 0.905104\n",
      "epoch 38, loss 0.894440\n",
      "epoch 39, loss 0.884973\n",
      "epoch 40, loss 0.876351\n",
      "epoch 41, loss 0.867675\n",
      "epoch 42, loss 0.858731\n",
      "epoch 43, loss 0.849612\n",
      "epoch 44, loss 0.843251\n",
      "epoch 45, loss 0.835893\n",
      "epoch 46, loss 0.829139\n",
      "epoch 47, loss 0.821646\n",
      "epoch 48, loss 0.811336\n",
      "epoch 49, loss 0.807032\n",
      "epoch 50, loss 0.800902\n",
      "epoch 51, loss 0.791467\n",
      "epoch 52, loss 0.784356\n",
      "epoch 53, loss 0.777307\n",
      "epoch 54, loss 0.772023\n",
      "epoch 55, loss 0.765807\n",
      "epoch 56, loss 0.760223\n",
      "epoch 57, loss 0.754436\n",
      "epoch 58, loss 0.748659\n",
      "epoch 59, loss 0.743565\n",
      "epoch 60, loss 0.738883\n",
      "epoch 61, loss 0.733669\n",
      "epoch 62, loss 0.729334\n",
      "epoch 63, loss 0.725644\n",
      "epoch 64, loss 0.720450\n",
      "epoch 65, loss 0.716620\n",
      "epoch 66, loss 0.711832\n",
      "epoch 67, loss 0.707984\n",
      "epoch 68, loss 0.703174\n",
      "epoch 69, loss 0.699876\n",
      "epoch 70, loss 0.695844\n",
      "epoch 71, loss 0.691746\n",
      "epoch 72, loss 0.688842\n",
      "epoch 73, loss 0.684870\n",
      "epoch 74, loss 0.682905\n",
      "epoch 75, loss 0.679318\n",
      "epoch 76, loss 0.675000\n",
      "epoch 77, loss 0.670766\n",
      "epoch 78, loss 0.667691\n",
      "epoch 79, loss 0.664319\n",
      "epoch 80, loss 0.661278\n",
      "epoch 81, loss 0.658954\n",
      "epoch 82, loss 0.655699\n",
      "epoch 83, loss 0.652610\n",
      "epoch 84, loss 0.650204\n",
      "epoch 85, loss 0.647484\n",
      "epoch 86, loss 0.644698\n",
      "epoch 87, loss 0.642375\n",
      "epoch 88, loss 0.638530\n",
      "epoch 89, loss 0.636019\n",
      "epoch 90, loss 0.633412\n",
      "epoch 91, loss 0.630862\n",
      "epoch 92, loss 0.628174\n",
      "epoch 93, loss 0.626476\n",
      "epoch 94, loss 0.624271\n",
      "epoch 95, loss 0.621537\n",
      "epoch 96, loss 0.619151\n",
      "epoch 97, loss 0.616131\n",
      "epoch 98, loss 0.613820\n",
      "epoch 99, loss 0.611843\n",
      "epoch 100, loss 0.610684\n",
      "epoch 101, loss 0.608256\n",
      "epoch 102, loss 0.606077\n",
      "epoch 103, loss 0.604523\n",
      "epoch 104, loss 0.603236\n",
      "epoch 105, loss 0.600846\n",
      "epoch 106, loss 0.598779\n",
      "epoch 107, loss 0.595926\n",
      "epoch 108, loss 0.592978\n",
      "epoch 109, loss 0.591274\n",
      "epoch 110, loss 0.590162\n",
      "epoch 111, loss 0.588051\n",
      "epoch 112, loss 0.585525\n",
      "epoch 113, loss 0.584543\n",
      "epoch 114, loss 0.582029\n",
      "epoch 115, loss 0.580333\n",
      "epoch 116, loss 0.578510\n",
      "epoch 117, loss 0.576896\n",
      "epoch 118, loss 0.575210\n",
      "epoch 119, loss 0.573560\n",
      "epoch 120, loss 0.572004\n",
      "epoch 121, loss 0.570723\n",
      "epoch 122, loss 0.568752\n",
      "epoch 123, loss 0.567228\n",
      "epoch 124, loss 0.566135\n",
      "epoch 125, loss 0.564906\n",
      "epoch 126, loss 0.563200\n",
      "epoch 127, loss 0.561771\n",
      "epoch 128, loss 0.560907\n",
      "epoch 129, loss 0.559598\n",
      "epoch 130, loss 0.558390\n",
      "epoch 131, loss 0.556621\n",
      "epoch 132, loss 0.554817\n",
      "epoch 133, loss 0.553498\n",
      "epoch 134, loss 0.552815\n",
      "epoch 135, loss 0.551858\n",
      "epoch 136, loss 0.550598\n",
      "epoch 137, loss 0.548955\n",
      "epoch 138, loss 0.547177\n",
      "epoch 139, loss 0.545824\n",
      "epoch 140, loss 0.544744\n",
      "epoch 141, loss 0.543703\n",
      "epoch 142, loss 0.541886\n",
      "epoch 143, loss 0.540635\n",
      "epoch 144, loss 0.539729\n",
      "epoch 145, loss 0.539324\n",
      "epoch 146, loss 0.537341\n",
      "epoch 147, loss 0.536127\n",
      "epoch 148, loss 0.535507\n",
      "epoch 149, loss 0.535168\n",
      "epoch 150, loss 0.533556\n",
      "epoch 151, loss 0.532117\n",
      "epoch 152, loss 0.531818\n",
      "epoch 153, loss 0.530676\n",
      "epoch 154, loss 0.528739\n",
      "epoch 155, loss 0.527611\n",
      "epoch 156, loss 0.526546\n",
      "epoch 157, loss 0.525900\n",
      "epoch 158, loss 0.525218\n",
      "epoch 159, loss 0.524833\n",
      "epoch 160, loss 0.523663\n",
      "epoch 161, loss 0.521619\n",
      "epoch 162, loss 0.521438\n",
      "epoch 163, loss 0.520166\n",
      "epoch 164, loss 0.519859\n",
      "epoch 165, loss 0.518021\n",
      "epoch 166, loss 0.517439\n",
      "epoch 167, loss 0.516438\n",
      "epoch 168, loss 0.516035\n",
      "epoch 169, loss 0.514609\n",
      "epoch 170, loss 0.514308\n",
      "epoch 171, loss 0.513374\n",
      "epoch 172, loss 0.513272\n",
      "epoch 173, loss 0.511504\n",
      "epoch 174, loss 0.510528\n",
      "epoch 175, loss 0.509763\n",
      "epoch 176, loss 0.508966\n",
      "epoch 177, loss 0.507836\n",
      "epoch 178, loss 0.507043\n",
      "epoch 179, loss 0.505630\n",
      "epoch 180, loss 0.504964\n",
      "epoch 181, loss 0.504213\n",
      "epoch 182, loss 0.503381\n",
      "epoch 183, loss 0.502445\n",
      "epoch 184, loss 0.501562\n",
      "epoch 185, loss 0.501556\n",
      "epoch 186, loss 0.500897\n",
      "epoch 187, loss 0.499441\n",
      "epoch 188, loss 0.498493\n",
      "epoch 189, loss 0.497760\n",
      "epoch 190, loss 0.496972\n",
      "epoch 191, loss 0.496060\n",
      "epoch 192, loss 0.495443\n",
      "epoch 193, loss 0.494718\n",
      "epoch 194, loss 0.494416\n",
      "epoch 195, loss 0.493915\n",
      "epoch 196, loss 0.492866\n",
      "epoch 197, loss 0.492287\n",
      "epoch 198, loss 0.491321\n",
      "epoch 199, loss 0.490263\n",
      "epoch 200, loss 0.489914\n",
      "epoch 201, loss 0.489423\n",
      "epoch 202, loss 0.488587\n",
      "epoch 203, loss 0.487916\n",
      "epoch 204, loss 0.486909\n",
      "epoch 205, loss 0.485999\n",
      "epoch 206, loss 0.485640\n",
      "epoch 207, loss 0.484987\n",
      "epoch 208, loss 0.484371\n",
      "epoch 209, loss 0.484365\n",
      "epoch 210, loss 0.484875\n",
      "epoch 211, loss 0.483613\n",
      "epoch 212, loss 0.482696\n",
      "epoch 213, loss 0.482832\n",
      "epoch 214, loss 0.481583\n",
      "epoch 215, loss 0.481309\n",
      "epoch 216, loss 0.480649\n",
      "epoch 217, loss 0.479403\n",
      "epoch 218, loss 0.479016\n",
      "epoch 219, loss 0.478509\n",
      "epoch 220, loss 0.477828\n",
      "epoch 221, loss 0.477054\n",
      "epoch 222, loss 0.476486\n",
      "epoch 223, loss 0.475666\n",
      "epoch 224, loss 0.475315\n",
      "epoch 225, loss 0.474511\n",
      "epoch 226, loss 0.474137\n",
      "epoch 227, loss 0.474113\n",
      "epoch 228, loss 0.473611\n",
      "epoch 229, loss 0.473252\n",
      "epoch 230, loss 0.471784\n",
      "epoch 231, loss 0.471144\n",
      "epoch 232, loss 0.470713\n",
      "epoch 233, loss 0.470343\n",
      "epoch 234, loss 0.469809\n",
      "epoch 235, loss 0.469968\n"
     ]
    }
   ],
   "source": [
    "i=0\n",
    "for X, y in train_iter:#迭代器每次返回X和y\n",
    "    l = loss(net(X) ,y)\n",
    "    trainer.zero_grad()#清零梯度\n",
    "    l.backward()\n",
    "    trainer.step()#自动前进\n",
    "    l = loss(net(mnist_train_features), y_train)#每轮再计算loss\n",
    "    print(f'epoch {i + 1}, loss {l:f}')\n",
    "    i+=1"
   ]
  },
  {
   "cell_type": "code",
   "execution_count": 22,
   "metadata": {},
   "outputs": [
    {
     "data": {
      "text/plain": [
       "tensor([[-0.2152, -3.4967, -0.6406,  0.8267, -0.6291, -1.0345, -2.7525,  6.1915,\n",
       "         -0.4394,  1.9429]], grad_fn=<AddmmBackward0>)"
      ]
     },
     "execution_count": 22,
     "metadata": {},
     "output_type": "execute_result"
    }
   ],
   "source": [
    "net(mnist_test_features[0].unsqueeze(0))#在0维上升维"
   ]
  },
  {
   "cell_type": "code",
   "execution_count": 23,
   "metadata": {},
   "outputs": [
    {
     "data": {
      "text/plain": [
       "0.8856"
      ]
     },
     "execution_count": 23,
     "metadata": {},
     "output_type": "execute_result"
    }
   ],
   "source": [
    "def torch_cal_acc(X,y):\n",
    "    tot=0\n",
    "    for i in range(X.shape[0]):\n",
    "        if(net(X[i].unsqueeze(0)).argmax()==y[i]):\n",
    "            tot+=1\n",
    "    return tot/X.shape[0]\n",
    "\n",
    "torch_cal_acc(mnist_test_features,y_test)"
   ]
  }
 ],
 "metadata": {
  "kernelspec": {
   "display_name": "Python 3.10.5 64-bit",
   "language": "python",
   "name": "python3"
  },
  "language_info": {
   "codemirror_mode": {
    "name": "ipython",
    "version": 3
   },
   "file_extension": ".py",
   "mimetype": "text/x-python",
   "name": "python",
   "nbconvert_exporter": "python",
   "pygments_lexer": "ipython3",
   "version": "3.10.5"
  },
  "orig_nbformat": 4,
  "vscode": {
   "interpreter": {
    "hash": "09f4728b05d69e74b0ea9aff0073f9d58b230df2a643ed862911c4fa3d476aa5"
   }
  }
 },
 "nbformat": 4,
 "nbformat_minor": 2
}
